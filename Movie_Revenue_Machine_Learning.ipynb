{
 "cells": [
  {
   "cell_type": "markdown",
   "metadata": {
    "colab_type": "text",
    "id": "PkspnTCJpk3v"
   },
   "source": [
    "# Initialization"
   ]
  },
  {
   "cell_type": "code",
   "execution_count": 1,
   "metadata": {
    "colab": {
     "base_uri": "https://localhost:8080/",
     "height": 52
    },
    "colab_type": "code",
    "id": "gdpBYAyao6YE",
    "outputId": "471e439c-da51-4aed-d22d-4419d85d08ae"
   },
   "outputs": [],
   "source": [
    "import pandas as pd\n",
    "from datetime import datetime\n",
    "import numpy as np\n",
    "from numpy import sqrt\n",
    "import seaborn as sns\n",
    "import matplotlib.pyplot as plt\n",
    "import matplotlib.style as style\n",
    "from ast import literal_eval\n",
    "from sklearn.preprocessing import OneHotEncoder, LabelEncoder\n",
    "from sklearn.linear_model import LinearRegression\n",
    "from sklearn.preprocessing import StandardScaler\n",
    "from sklearn.preprocessing import power_transform\n",
    "from sklearn.model_selection import train_test_split, cross_val_score, cross_val_predict\n",
    "from sklearn import metrics\n",
    "from sklearn.metrics import r2_score, mean_squared_error, mean_absolute_error\n",
    "from sklearn.svm import SVR\n",
    "from sklearn.tree import DecisionTreeRegressor\n",
    "import statsmodels.api as sm\n",
    "import statsmodels\n",
    "import statsmodels.stats.api as sms\n",
    "from statsmodels.stats.diagnostic import het_white\n",
    "from statsmodels.compat import lzip\n",
    "from sklearn.utils import check_array\n",
    "from scipy import stats\n",
    "from scipy.special import boxcox1p\n",
    "from tqdm import tqdm_notebook\n",
    "from sklearn.model_selection import validation_curve\n",
    "from sklearn.preprocessing import PolynomialFeatures\n",
    "from sklearn.linear_model import LinearRegression\n",
    "from sklearn.pipeline import make_pipeline\n",
    "\n",
    "%matplotlib inline\n",
    "#style.use('seaborn-poster') #sets the size of the charts\n",
    "style.use('ggplot')\n",
    "\n",
    "#!sudo apt-get install python-sklearn\n",
    "\n",
    "import warnings\n",
    "warnings.filterwarnings('ignore')"
   ]
  },
  {
   "cell_type": "code",
   "execution_count": 2,
   "metadata": {
    "colab": {},
    "colab_type": "code",
    "id": "KXqzAOK8o8_S"
   },
   "outputs": [],
   "source": [
    "movies1 = pd.read_csv('movies_metadata.csv')\n",
    "movies2 = pd.read_csv('movie_metadata.csv')"
   ]
  },
  {
   "cell_type": "markdown",
   "metadata": {
    "colab_type": "text",
    "id": "vBI9X99PppKF"
   },
   "source": [
    "# Data Cleaning & Preprocessing"
   ]
  },
  {
   "cell_type": "code",
   "execution_count": 3,
   "metadata": {
    "colab": {
     "base_uri": "https://localhost:8080/",
     "height": 52
    },
    "colab_type": "code",
    "id": "5XB_KQxZE0SD",
    "outputId": "835f1d51-9a0a-4da5-f231-61ac84d33f92"
   },
   "outputs": [
    {
     "name": "stdout",
     "output_type": "stream",
     "text": [
      "(45466, 24)\n",
      "(5043, 28)\n"
     ]
    }
   ],
   "source": [
    "print(movies1.shape)\n",
    "print(movies2.shape)"
   ]
  },
  {
   "cell_type": "code",
   "execution_count": 4,
   "metadata": {
    "colab": {
     "base_uri": "https://localhost:8080/",
     "height": 181
    },
    "colab_type": "code",
    "id": "q-kCa3rmrQml",
    "outputId": "54d29390-9aae-4bc8-da90-1bf1272a277b"
   },
   "outputs": [
    {
     "data": {
      "text/html": [
       "<div>\n",
       "<style scoped>\n",
       "    .dataframe tbody tr th:only-of-type {\n",
       "        vertical-align: middle;\n",
       "    }\n",
       "\n",
       "    .dataframe tbody tr th {\n",
       "        vertical-align: top;\n",
       "    }\n",
       "\n",
       "    .dataframe thead th {\n",
       "        text-align: right;\n",
       "    }\n",
       "</style>\n",
       "<table border=\"1\" class=\"dataframe\">\n",
       "  <thead>\n",
       "    <tr style=\"text-align: right;\">\n",
       "      <th></th>\n",
       "      <th>adult</th>\n",
       "      <th>belongs_to_collection</th>\n",
       "      <th>budget</th>\n",
       "      <th>genres</th>\n",
       "      <th>homepage</th>\n",
       "      <th>id</th>\n",
       "      <th>imdb_id</th>\n",
       "      <th>original_language</th>\n",
       "      <th>original_title</th>\n",
       "      <th>overview</th>\n",
       "      <th>...</th>\n",
       "      <th>release_date</th>\n",
       "      <th>revenue</th>\n",
       "      <th>runtime</th>\n",
       "      <th>spoken_languages</th>\n",
       "      <th>status</th>\n",
       "      <th>tagline</th>\n",
       "      <th>title</th>\n",
       "      <th>video</th>\n",
       "      <th>vote_average</th>\n",
       "      <th>vote_count</th>\n",
       "    </tr>\n",
       "  </thead>\n",
       "  <tbody>\n",
       "    <tr>\n",
       "      <th>0</th>\n",
       "      <td>False</td>\n",
       "      <td>{'id': 10194, 'name': 'Toy Story Collection', ...</td>\n",
       "      <td>30000000</td>\n",
       "      <td>[{'id': 16, 'name': 'Animation'}, {'id': 35, '...</td>\n",
       "      <td>http://toystory.disney.com/toy-story</td>\n",
       "      <td>862</td>\n",
       "      <td>tt0114709</td>\n",
       "      <td>en</td>\n",
       "      <td>Toy Story</td>\n",
       "      <td>Led by Woody, Andy's toys live happily in his ...</td>\n",
       "      <td>...</td>\n",
       "      <td>1995-10-30</td>\n",
       "      <td>373554033.0</td>\n",
       "      <td>81.0</td>\n",
       "      <td>[{'iso_639_1': 'en', 'name': 'English'}]</td>\n",
       "      <td>Released</td>\n",
       "      <td>NaN</td>\n",
       "      <td>Toy Story</td>\n",
       "      <td>False</td>\n",
       "      <td>7.7</td>\n",
       "      <td>5415.0</td>\n",
       "    </tr>\n",
       "  </tbody>\n",
       "</table>\n",
       "<p>1 rows × 24 columns</p>\n",
       "</div>"
      ],
      "text/plain": [
       "   adult                              belongs_to_collection    budget  \\\n",
       "0  False  {'id': 10194, 'name': 'Toy Story Collection', ...  30000000   \n",
       "\n",
       "                                              genres  \\\n",
       "0  [{'id': 16, 'name': 'Animation'}, {'id': 35, '...   \n",
       "\n",
       "                               homepage   id    imdb_id original_language  \\\n",
       "0  http://toystory.disney.com/toy-story  862  tt0114709                en   \n",
       "\n",
       "  original_title                                           overview  \\\n",
       "0      Toy Story  Led by Woody, Andy's toys live happily in his ...   \n",
       "\n",
       "     ...     release_date      revenue runtime  \\\n",
       "0    ...       1995-10-30  373554033.0    81.0   \n",
       "\n",
       "                           spoken_languages    status  tagline      title  \\\n",
       "0  [{'iso_639_1': 'en', 'name': 'English'}]  Released      NaN  Toy Story   \n",
       "\n",
       "   video vote_average vote_count  \n",
       "0  False          7.7     5415.0  \n",
       "\n",
       "[1 rows x 24 columns]"
      ]
     },
     "execution_count": 4,
     "metadata": {},
     "output_type": "execute_result"
    }
   ],
   "source": [
    "movies1.head(1)"
   ]
  },
  {
   "cell_type": "code",
   "execution_count": 5,
   "metadata": {
    "colab": {
     "base_uri": "https://localhost:8080/",
     "height": 113
    },
    "colab_type": "code",
    "id": "BpbHntlwElkF",
    "outputId": "3bd9f0fd-5f79-47cc-9001-122f883b9cd6"
   },
   "outputs": [
    {
     "data": {
      "text/html": [
       "<div>\n",
       "<style scoped>\n",
       "    .dataframe tbody tr th:only-of-type {\n",
       "        vertical-align: middle;\n",
       "    }\n",
       "\n",
       "    .dataframe tbody tr th {\n",
       "        vertical-align: top;\n",
       "    }\n",
       "\n",
       "    .dataframe thead th {\n",
       "        text-align: right;\n",
       "    }\n",
       "</style>\n",
       "<table border=\"1\" class=\"dataframe\">\n",
       "  <thead>\n",
       "    <tr style=\"text-align: right;\">\n",
       "      <th></th>\n",
       "      <th>color</th>\n",
       "      <th>director_name</th>\n",
       "      <th>num_critic_for_reviews</th>\n",
       "      <th>duration</th>\n",
       "      <th>director_facebook_likes</th>\n",
       "      <th>actor_3_facebook_likes</th>\n",
       "      <th>actor_2_name</th>\n",
       "      <th>actor_1_facebook_likes</th>\n",
       "      <th>gross</th>\n",
       "      <th>genres</th>\n",
       "      <th>...</th>\n",
       "      <th>num_user_for_reviews</th>\n",
       "      <th>language</th>\n",
       "      <th>country</th>\n",
       "      <th>content_rating</th>\n",
       "      <th>budget</th>\n",
       "      <th>title_year</th>\n",
       "      <th>actor_2_facebook_likes</th>\n",
       "      <th>imdb_score</th>\n",
       "      <th>aspect_ratio</th>\n",
       "      <th>movie_facebook_likes</th>\n",
       "    </tr>\n",
       "  </thead>\n",
       "  <tbody>\n",
       "    <tr>\n",
       "      <th>0</th>\n",
       "      <td>Color</td>\n",
       "      <td>James Cameron</td>\n",
       "      <td>723.0</td>\n",
       "      <td>178.0</td>\n",
       "      <td>0.0</td>\n",
       "      <td>855.0</td>\n",
       "      <td>Joel David Moore</td>\n",
       "      <td>1000.0</td>\n",
       "      <td>760505847.0</td>\n",
       "      <td>Action|Adventure|Fantasy|Sci-Fi</td>\n",
       "      <td>...</td>\n",
       "      <td>3054.0</td>\n",
       "      <td>English</td>\n",
       "      <td>USA</td>\n",
       "      <td>PG-13</td>\n",
       "      <td>237000000.0</td>\n",
       "      <td>2009.0</td>\n",
       "      <td>936.0</td>\n",
       "      <td>7.9</td>\n",
       "      <td>1.78</td>\n",
       "      <td>33000</td>\n",
       "    </tr>\n",
       "  </tbody>\n",
       "</table>\n",
       "<p>1 rows × 28 columns</p>\n",
       "</div>"
      ],
      "text/plain": [
       "   color  director_name  num_critic_for_reviews  duration  \\\n",
       "0  Color  James Cameron                   723.0     178.0   \n",
       "\n",
       "   director_facebook_likes  actor_3_facebook_likes      actor_2_name  \\\n",
       "0                      0.0                   855.0  Joel David Moore   \n",
       "\n",
       "   actor_1_facebook_likes        gross                           genres  \\\n",
       "0                  1000.0  760505847.0  Action|Adventure|Fantasy|Sci-Fi   \n",
       "\n",
       "          ...          num_user_for_reviews language  country  content_rating  \\\n",
       "0         ...                        3054.0  English      USA           PG-13   \n",
       "\n",
       "        budget  title_year actor_2_facebook_likes imdb_score  aspect_ratio  \\\n",
       "0  237000000.0      2009.0                  936.0        7.9          1.78   \n",
       "\n",
       "  movie_facebook_likes  \n",
       "0                33000  \n",
       "\n",
       "[1 rows x 28 columns]"
      ]
     },
     "execution_count": 5,
     "metadata": {},
     "output_type": "execute_result"
    }
   ],
   "source": [
    "movies2.head(1)"
   ]
  },
  {
   "cell_type": "markdown",
   "metadata": {
    "colab_type": "text",
    "id": "SdkYelc0Ev7I"
   },
   "source": [
    "Both datasets are amazing but one is massive compared to another. I want to know if I should combine both to get more features but lesser samples which could possibly increase accuracy, or should I use the dataset with 40k and rely on training samples alone. I'll try the former option first."
   ]
  },
  {
   "cell_type": "code",
   "execution_count": 6,
   "metadata": {
    "colab": {},
    "colab_type": "code",
    "id": "nDYue4t_DwT1"
   },
   "outputs": [],
   "source": [
    "movies2['imdb_id'] = movies2['movie_imdb_link'].apply(lambda x: x.split('/')[4])\n",
    "movies = pd.merge(left = movies1, right = movies2, left_on = 'imdb_id', right_on = 'imdb_id')"
   ]
  },
  {
   "cell_type": "markdown",
   "metadata": {
    "colab_type": "text",
    "id": "mVPHaEga8Fd9"
   },
   "source": [
    "Since I'm using two datasets, there are overlapping features. I will discard the redundants with lesser data. For example, if one dataset has more genre specification than the other, I will prefer it more. "
   ]
  },
  {
   "cell_type": "markdown",
   "metadata": {
    "colab_type": "text",
    "id": "ckgeFyo2sRxf"
   },
   "source": [
    "Removing null values:"
   ]
  },
  {
   "cell_type": "code",
   "execution_count": 7,
   "metadata": {
    "colab": {
     "base_uri": "https://localhost:8080/",
     "height": 181
    },
    "colab_type": "code",
    "id": "hHDYWGaXXdg-",
    "outputId": "22592089-d277-4c9e-eaf6-19e6f9e413d6"
   },
   "outputs": [
    {
     "data": {
      "text/html": [
       "<div>\n",
       "<style scoped>\n",
       "    .dataframe tbody tr th:only-of-type {\n",
       "        vertical-align: middle;\n",
       "    }\n",
       "\n",
       "    .dataframe tbody tr th {\n",
       "        vertical-align: top;\n",
       "    }\n",
       "\n",
       "    .dataframe thead th {\n",
       "        text-align: right;\n",
       "    }\n",
       "</style>\n",
       "<table border=\"1\" class=\"dataframe\">\n",
       "  <thead>\n",
       "    <tr style=\"text-align: right;\">\n",
       "      <th></th>\n",
       "      <th>adult</th>\n",
       "      <th>belongs_to_collection</th>\n",
       "      <th>budget_x</th>\n",
       "      <th>genres_x</th>\n",
       "      <th>homepage</th>\n",
       "      <th>id</th>\n",
       "      <th>imdb_id</th>\n",
       "      <th>original_language</th>\n",
       "      <th>original_title</th>\n",
       "      <th>overview</th>\n",
       "      <th>...</th>\n",
       "      <th>num_user_for_reviews</th>\n",
       "      <th>language</th>\n",
       "      <th>country</th>\n",
       "      <th>content_rating</th>\n",
       "      <th>budget_y</th>\n",
       "      <th>title_year</th>\n",
       "      <th>actor_2_facebook_likes</th>\n",
       "      <th>imdb_score</th>\n",
       "      <th>aspect_ratio</th>\n",
       "      <th>movie_facebook_likes</th>\n",
       "    </tr>\n",
       "  </thead>\n",
       "  <tbody>\n",
       "    <tr>\n",
       "      <th>0</th>\n",
       "      <td>False</td>\n",
       "      <td>{'id': 10194, 'name': 'Toy Story Collection', ...</td>\n",
       "      <td>30000000</td>\n",
       "      <td>[{'id': 16, 'name': 'Animation'}, {'id': 35, '...</td>\n",
       "      <td>http://toystory.disney.com/toy-story</td>\n",
       "      <td>862</td>\n",
       "      <td>tt0114709</td>\n",
       "      <td>en</td>\n",
       "      <td>Toy Story</td>\n",
       "      <td>Led by Woody, Andy's toys live happily in his ...</td>\n",
       "      <td>...</td>\n",
       "      <td>391.0</td>\n",
       "      <td>English</td>\n",
       "      <td>USA</td>\n",
       "      <td>G</td>\n",
       "      <td>30000000.0</td>\n",
       "      <td>1995.0</td>\n",
       "      <td>1000.0</td>\n",
       "      <td>8.3</td>\n",
       "      <td>1.85</td>\n",
       "      <td>0</td>\n",
       "    </tr>\n",
       "  </tbody>\n",
       "</table>\n",
       "<p>1 rows × 52 columns</p>\n",
       "</div>"
      ],
      "text/plain": [
       "   adult                              belongs_to_collection  budget_x  \\\n",
       "0  False  {'id': 10194, 'name': 'Toy Story Collection', ...  30000000   \n",
       "\n",
       "                                            genres_x  \\\n",
       "0  [{'id': 16, 'name': 'Animation'}, {'id': 35, '...   \n",
       "\n",
       "                               homepage   id    imdb_id original_language  \\\n",
       "0  http://toystory.disney.com/toy-story  862  tt0114709                en   \n",
       "\n",
       "  original_title                                           overview  \\\n",
       "0      Toy Story  Led by Woody, Andy's toys live happily in his ...   \n",
       "\n",
       "          ...          num_user_for_reviews language country content_rating  \\\n",
       "0         ...                         391.0  English     USA              G   \n",
       "\n",
       "     budget_y  title_year  actor_2_facebook_likes imdb_score aspect_ratio  \\\n",
       "0  30000000.0      1995.0                  1000.0        8.3         1.85   \n",
       "\n",
       "  movie_facebook_likes  \n",
       "0                    0  \n",
       "\n",
       "[1 rows x 52 columns]"
      ]
     },
     "execution_count": 7,
     "metadata": {},
     "output_type": "execute_result"
    }
   ],
   "source": [
    "movies.head(1)"
   ]
  },
  {
   "cell_type": "code",
   "execution_count": 8,
   "metadata": {
    "colab": {
     "base_uri": "https://localhost:8080/",
     "height": 52
    },
    "colab_type": "code",
    "id": "c6vf1RZI4aNX",
    "outputId": "00652ac7-adf3-4bdf-bb4b-242e4203d17a"
   },
   "outputs": [
    {
     "name": "stdout",
     "output_type": "stream",
     "text": [
      "2.5678881592882865\n",
      "2.9112476170302903\n"
     ]
    }
   ],
   "source": [
    "print(movies['genres_x'].fillna('[]').apply(literal_eval).apply(lambda x: len([i['name'] for i in x]) if isinstance(x, list) else []).mean())\n",
    "print(movies['genres_y'].apply(lambda x: len(x.split(\"|\"))).mean())"
   ]
  },
  {
   "cell_type": "markdown",
   "metadata": {
    "colab_type": "text",
    "id": "NMsYVzmX8kGu"
   },
   "source": [
    "As evident from above, the genre feature from the second dataset has more data, so I will discard the genre column from the first. I'm not sure if this will help increase the prediction accuracy in anyway, but I'll give it a shot.\n",
    "\n",
    "Also going to be taking only one genre from the list of genres. This will of course decrease accuracy but I don't know how to incorporate multiple genres into my algorithm. I could one-hot encode them, but that would mean my algorithm would give preference to movies with more listed genres, which is not an indicator of success. "
   ]
  },
  {
   "cell_type": "code",
   "execution_count": 9,
   "metadata": {
    "colab": {},
    "colab_type": "code",
    "id": "dU1Icn3S87a2"
   },
   "outputs": [],
   "source": [
    "movies['genre'] = movies['genres_y'].apply(lambda x: x.split(\"|\")[0])"
   ]
  },
  {
   "cell_type": "code",
   "execution_count": 10,
   "metadata": {
    "colab": {
     "base_uri": "https://localhost:8080/",
     "height": 88
    },
    "colab_type": "code",
    "id": "TDjCvgUZr2n-",
    "outputId": "366a4de1-c125-4004-b8fd-ceb521e96df0"
   },
   "outputs": [
    {
     "data": {
      "text/plain": [
       "array(['Adventure', 'Action', 'Comedy', 'Biography', 'Drama', 'Crime',\n",
       "       'Documentary', 'Fantasy', 'Sci-Fi', 'Animation', 'Horror',\n",
       "       'Film-Noir', 'Family', 'Western', 'Thriller', 'Musical', 'Mystery',\n",
       "       'Romance', 'Music'], dtype=object)"
      ]
     },
     "execution_count": 10,
     "metadata": {},
     "output_type": "execute_result"
    }
   ],
   "source": [
    "movies['genre'].unique()"
   ]
  },
  {
   "cell_type": "code",
   "execution_count": 11,
   "metadata": {
    "colab": {
     "base_uri": "https://localhost:8080/",
     "height": 35
    },
    "colab_type": "code",
    "id": "CQ8Ni5CG2L2T",
    "outputId": "8d73cb08-e8e2-4466-fefc-60f0aa0070ac"
   },
   "outputs": [
    {
     "data": {
      "text/plain": [
       "(4721, 53)"
      ]
     },
     "execution_count": 11,
     "metadata": {},
     "output_type": "execute_result"
    }
   ],
   "source": [
    "movies.shape"
   ]
  },
  {
   "cell_type": "markdown",
   "metadata": {
    "colab_type": "text",
    "id": "9vToLUJ9hH-r"
   },
   "source": []
  },
  {
   "cell_type": "code",
   "execution_count": 12,
   "metadata": {
    "colab": {
     "base_uri": "https://localhost:8080/",
     "height": 35
    },
    "colab_type": "code",
    "id": "Ay2F_1RM_SDW",
    "outputId": "2460ceda-811c-42f3-b484-4e005a0a1ab5"
   },
   "outputs": [
    {
     "data": {
      "text/plain": [
       "\"\\none_hot_genres = pd.get_dummies(movies['genre'], prefix = 'category')\\none_hot_genre_cols = one_hot_genres.columns\\nmovies = pd.concat([movies, one_hot_genres], axis=1, sort = False)\\n\""
      ]
     },
     "execution_count": 12,
     "metadata": {},
     "output_type": "execute_result"
    }
   ],
   "source": [
    "'''\n",
    "one_hot_genres = pd.get_dummies(movies['genre'], prefix = 'category')\n",
    "one_hot_genre_cols = one_hot_genres.columns\n",
    "movies = pd.concat([movies, one_hot_genres], axis=1, sort = False)\n",
    "'''"
   ]
  },
  {
   "cell_type": "markdown",
   "metadata": {
    "colab_type": "text",
    "id": "JIoas1WWFovY"
   },
   "source": [
    "Another thing that I notice is discrepancies between similar columns, for example the gross/revenue. They seem to differ by a lot. How much? We'll find out. "
   ]
  },
  {
   "cell_type": "code",
   "execution_count": 13,
   "metadata": {
    "colab": {
     "base_uri": "https://localhost:8080/",
     "height": 35
    },
    "colab_type": "code",
    "id": "796urCUZFw98",
    "outputId": "81191a06-d12f-4b64-f7f7-831b5f360153"
   },
   "outputs": [
    {
     "data": {
      "text/plain": [
       "43.07130868751626"
      ]
     },
     "execution_count": 13,
     "metadata": {},
     "output_type": "execute_result"
    }
   ],
   "source": [
    "(abs(movies['revenue'] - movies['gross']) / (movies['revenue'] + movies['gross']) * 100).mean()"
   ]
  },
  {
   "cell_type": "markdown",
   "metadata": {
    "colab_type": "text",
    "id": "vC4Fik-bGelq"
   },
   "source": [
    "43% difference. No thank you. After doing a bit of digging around, I find that the dataset movies2 contained movie revenue for USA alone, while movies1 has the global revenue. What I want is the former, so I will discard the 'revenue' column from movie1 and keep 'gross'."
   ]
  },
  {
   "cell_type": "markdown",
   "metadata": {
    "colab_type": "text",
    "id": "yCvm1aL67oQQ"
   },
   "source": [
    "There's another interesting column, 'belongs_to_collection'. I will binarize, as it makes sense as to conclude that a movie will earn more if it belongs to a collection."
   ]
  },
  {
   "cell_type": "code",
   "execution_count": 14,
   "metadata": {
    "colab": {},
    "colab_type": "code",
    "id": "AcOx5d3U7n6Z"
   },
   "outputs": [],
   "source": [
    "movies['belongs_to_collection'] = movies['belongs_to_collection'].apply(lambda x: 0 if pd.isna(x) else 1)"
   ]
  },
  {
   "cell_type": "markdown",
   "metadata": {
    "colab_type": "text",
    "id": "rLrimZMAXhPw"
   },
   "source": [
    "Converting to datetime format for convenience."
   ]
  },
  {
   "cell_type": "code",
   "execution_count": 15,
   "metadata": {
    "colab": {},
    "colab_type": "code",
    "id": "536klWN4Xgwi"
   },
   "outputs": [],
   "source": [
    "months = ['Placeholder', 'Jan', 'Feb', 'Mar', 'Apr', 'May', 'Jun', 'Jul', 'Aug', 'Sep', 'Oct', 'Nov', 'Dec']\n",
    "movies['release_date'] = movies['release_date'].apply(lambda x: datetime.strptime(x, '%Y-%m-%d'))\n",
    "movies['release_month'] = movies['release_date'].apply(lambda x: months[x.month])\n",
    "movies['release_year'] = movies['release_date'].apply(lambda x: x.year)\n"
   ]
  },
  {
   "cell_type": "markdown",
   "metadata": {
    "colab_type": "text",
    "id": "QybGUXiVT5ym"
   },
   "source": [
    "Converting to lists:"
   ]
  },
  {
   "cell_type": "code",
   "execution_count": 16,
   "metadata": {
    "colab": {},
    "colab_type": "code",
    "id": "SVlyW_tsTpKr"
   },
   "outputs": [],
   "source": [
    "movies['production_companies'] = movies['production_companies'].fillna('[]').apply(literal_eval).apply(lambda x: [i['name'] for i in x] if isinstance(x, list) else [])\n",
    "movies['production_countries'] = movies['production_countries'].fillna('[]').apply(literal_eval).apply(lambda x: [i['name'] for i in x] if isinstance(x, list) else [])\n",
    "movies['spoken_languages'] = movies['spoken_languages'].fillna('[]').apply(literal_eval).apply(lambda x: [i['name'] for i in x] if isinstance(x, list) else [])"
   ]
  },
  {
   "cell_type": "markdown",
   "metadata": {
    "colab_type": "text",
    "id": "eKdt0mbPBmRT"
   },
   "source": [
    "Plot keywords will help a ton in building movie recommendation systems, but the goal here is to predict the profit of a movie. So it's of no use here. "
   ]
  },
  {
   "cell_type": "code",
   "execution_count": 17,
   "metadata": {
    "colab": {},
    "colab_type": "code",
    "id": "S0JcfV7IRE0S"
   },
   "outputs": [],
   "source": [
    "columns_to_drop = ['revenue', 'movie_imdb_link', 'genres_x', 'genres_y', 'homepage', 'id', 'imdb_id', 'overview', \n",
    "                   'poster_path', 'status', 'tagline', 'movie_title', 'original_language', 'original_title', 'video',\n",
    "                  'budget_x', 'language', 'country', 'adult', 'plot_keywords', 'aspect_ratio', 'runtime', 'title_year']\n",
    "                   \n",
    "movies = movies.drop(columns_to_drop, axis = 1).rename(columns = {'budget_y' : 'budget', 'gross' : 'revenue'})"
   ]
  },
  {
   "cell_type": "code",
   "execution_count": 18,
   "metadata": {
    "colab": {},
    "colab_type": "code",
    "id": "EYU3CB8UqjIm"
   },
   "outputs": [],
   "source": [
    "movies = movies[movies['production_countries'].apply(lambda x: True if 'United States of America' in x else False)]\n",
    "movies = movies[movies['spoken_languages'].apply(lambda x: True if 'English' in x else False)]"
   ]
  },
  {
   "cell_type": "code",
   "execution_count": 19,
   "metadata": {
    "colab": {
     "base_uri": "https://localhost:8080/",
     "height": 372
    },
    "colab_type": "code",
    "id": "GHC6Jm6cKFA2",
    "outputId": "982916fc-1c7d-4887-dd5c-33505743962c"
   },
   "outputs": [
    {
     "data": {
      "text/plain": [
       "belongs_to_collection        0.000000e+00\n",
       "popularity                   8.754132e+00\n",
       "vote_average                 6.200000e+00\n",
       "vote_count                   3.350000e+02\n",
       "num_critic_for_reviews       1.250000e+02\n",
       "duration                     1.050000e+02\n",
       "director_facebook_likes      5.700000e+01\n",
       "actor_3_facebook_likes       4.345000e+02\n",
       "actor_1_facebook_likes       1.000000e+03\n",
       "revenue                      3.240374e+07\n",
       "num_voted_users              4.622100e+04\n",
       "cast_total_facebook_likes    3.924000e+03\n",
       "facenumber_in_poster         1.000000e+00\n",
       "num_user_for_reviews         1.910000e+02\n",
       "budget                       2.300000e+07\n",
       "actor_2_facebook_likes       6.800000e+02\n",
       "imdb_score                   6.500000e+00\n",
       "movie_facebook_likes         2.090000e+02\n",
       "release_year                 2.005000e+03\n",
       "dtype: float64"
      ]
     },
     "execution_count": 19,
     "metadata": {},
     "output_type": "execute_result"
    }
   ],
   "source": [
    "movies.median()"
   ]
  },
  {
   "cell_type": "code",
   "execution_count": 20,
   "metadata": {
    "colab": {
     "base_uri": "https://localhost:8080/",
     "height": 52
    },
    "colab_type": "code",
    "id": "8BmWrdtmse12",
    "outputId": "b3f217d8-1fd1-4cfd-db39-25686333c70a"
   },
   "outputs": [
    {
     "name": "stdout",
     "output_type": "stream",
     "text": [
      "(3943, 32)\n",
      "(3358, 32)\n"
     ]
    }
   ],
   "source": [
    "print(movies.shape)\n",
    "movies = movies.dropna()\n",
    "#movies = movies.fillna(movies.median())\n",
    "print(movies.shape)"
   ]
  },
  {
   "cell_type": "markdown",
   "metadata": {
    "colab_type": "text",
    "id": "GQJQYi-Vpt4V"
   },
   "source": [
    "# Exploratory Data Analysis & Feature Selection"
   ]
  },
  {
   "cell_type": "code",
   "execution_count": 21,
   "metadata": {
    "colab": {
     "base_uri": "https://localhost:8080/",
     "height": 710
    },
    "colab_type": "code",
    "id": "AcELLNwFqibt",
    "outputId": "46c44aa4-f9dc-4aed-8727-cae1d48f45c0"
   },
   "outputs": [
    {
     "name": "stdout",
     "output_type": "stream",
     "text": [
      "<class 'pandas.core.frame.DataFrame'>\n",
      "Int64Index: 3358 entries, 0 to 4713\n",
      "Data columns (total 32 columns):\n",
      "belongs_to_collection        3358 non-null int64\n",
      "popularity                   3358 non-null object\n",
      "production_companies         3358 non-null object\n",
      "production_countries         3358 non-null object\n",
      "release_date                 3358 non-null datetime64[ns]\n",
      "spoken_languages             3358 non-null object\n",
      "title                        3358 non-null object\n",
      "vote_average                 3358 non-null float64\n",
      "vote_count                   3358 non-null float64\n",
      "color                        3358 non-null object\n",
      "director_name                3358 non-null object\n",
      "num_critic_for_reviews       3358 non-null float64\n",
      "duration                     3358 non-null float64\n",
      "director_facebook_likes      3358 non-null float64\n",
      "actor_3_facebook_likes       3358 non-null float64\n",
      "actor_2_name                 3358 non-null object\n",
      "actor_1_facebook_likes       3358 non-null float64\n",
      "revenue                      3358 non-null float64\n",
      "actor_1_name                 3358 non-null object\n",
      "num_voted_users              3358 non-null int64\n",
      "cast_total_facebook_likes    3358 non-null int64\n",
      "actor_3_name                 3358 non-null object\n",
      "facenumber_in_poster         3358 non-null float64\n",
      "num_user_for_reviews         3358 non-null float64\n",
      "content_rating               3358 non-null object\n",
      "budget                       3358 non-null float64\n",
      "actor_2_facebook_likes       3358 non-null float64\n",
      "imdb_score                   3358 non-null float64\n",
      "movie_facebook_likes         3358 non-null int64\n",
      "genre                        3358 non-null object\n",
      "release_month                3358 non-null object\n",
      "release_year                 3358 non-null int64\n",
      "dtypes: datetime64[ns](1), float64(13), int64(5), object(13)\n",
      "memory usage: 865.7+ KB\n"
     ]
    }
   ],
   "source": [
    "movies.info()"
   ]
  },
  {
   "cell_type": "code",
   "execution_count": 22,
   "metadata": {
    "colab": {
     "base_uri": "https://localhost:8080/",
     "height": 35
    },
    "colab_type": "code",
    "id": "3se0lb2RAExW",
    "outputId": "75b3ec24-5538-40ab-814f-5e4c6605a874"
   },
   "outputs": [
    {
     "data": {
      "text/plain": [
       "(8, 18)"
      ]
     },
     "execution_count": 22,
     "metadata": {},
     "output_type": "execute_result"
    }
   ],
   "source": [
    "movies.describe().shape"
   ]
  },
  {
   "cell_type": "code",
   "execution_count": 23,
   "metadata": {
    "colab": {
     "base_uri": "https://localhost:8080/",
     "height": 302
    },
    "colab_type": "code",
    "id": "bLNcmQUqpWST",
    "outputId": "f6d0fe8d-210b-45dc-8213-ab809e6690a7"
   },
   "outputs": [
    {
     "data": {
      "text/html": [
       "<div>\n",
       "<style scoped>\n",
       "    .dataframe tbody tr th:only-of-type {\n",
       "        vertical-align: middle;\n",
       "    }\n",
       "\n",
       "    .dataframe tbody tr th {\n",
       "        vertical-align: top;\n",
       "    }\n",
       "\n",
       "    .dataframe thead th {\n",
       "        text-align: right;\n",
       "    }\n",
       "</style>\n",
       "<table border=\"1\" class=\"dataframe\">\n",
       "  <thead>\n",
       "    <tr style=\"text-align: right;\">\n",
       "      <th></th>\n",
       "      <th>belongs_to_collection</th>\n",
       "      <th>vote_average</th>\n",
       "      <th>vote_count</th>\n",
       "      <th>num_critic_for_reviews</th>\n",
       "      <th>duration</th>\n",
       "      <th>director_facebook_likes</th>\n",
       "      <th>actor_3_facebook_likes</th>\n",
       "      <th>actor_1_facebook_likes</th>\n",
       "      <th>revenue</th>\n",
       "      <th>num_voted_users</th>\n",
       "      <th>cast_total_facebook_likes</th>\n",
       "      <th>facenumber_in_poster</th>\n",
       "      <th>num_user_for_reviews</th>\n",
       "      <th>budget</th>\n",
       "      <th>actor_2_facebook_likes</th>\n",
       "      <th>imdb_score</th>\n",
       "      <th>movie_facebook_likes</th>\n",
       "      <th>release_year</th>\n",
       "    </tr>\n",
       "  </thead>\n",
       "  <tbody>\n",
       "    <tr>\n",
       "      <th>count</th>\n",
       "      <td>3358.000000</td>\n",
       "      <td>3358.000000</td>\n",
       "      <td>3358.000000</td>\n",
       "      <td>3358.000000</td>\n",
       "      <td>3358.000000</td>\n",
       "      <td>3358.000000</td>\n",
       "      <td>3358.000000</td>\n",
       "      <td>3358.000000</td>\n",
       "      <td>3.358000e+03</td>\n",
       "      <td>3.358000e+03</td>\n",
       "      <td>3358.000000</td>\n",
       "      <td>3358.000000</td>\n",
       "      <td>3358.000000</td>\n",
       "      <td>3.358000e+03</td>\n",
       "      <td>3358.000000</td>\n",
       "      <td>3358.000000</td>\n",
       "      <td>3358.000000</td>\n",
       "      <td>3358.000000</td>\n",
       "    </tr>\n",
       "    <tr>\n",
       "      <th>mean</th>\n",
       "      <td>0.250744</td>\n",
       "      <td>6.190887</td>\n",
       "      <td>954.145920</td>\n",
       "      <td>169.294223</td>\n",
       "      <td>110.233770</td>\n",
       "      <td>860.966647</td>\n",
       "      <td>824.218285</td>\n",
       "      <td>8135.464562</td>\n",
       "      <td>5.732073e+07</td>\n",
       "      <td>1.104946e+05</td>\n",
       "      <td>12190.299285</td>\n",
       "      <td>1.414532</td>\n",
       "      <td>351.083681</td>\n",
       "      <td>4.103701e+07</td>\n",
       "      <td>2171.393985</td>\n",
       "      <td>6.407058</td>\n",
       "      <td>9568.661108</td>\n",
       "      <td>2003.037522</td>\n",
       "    </tr>\n",
       "    <tr>\n",
       "      <th>std</th>\n",
       "      <td>0.433506</td>\n",
       "      <td>0.882913</td>\n",
       "      <td>1448.036597</td>\n",
       "      <td>124.773653</td>\n",
       "      <td>22.353895</td>\n",
       "      <td>3209.121228</td>\n",
       "      <td>1973.656712</td>\n",
       "      <td>15538.326953</td>\n",
       "      <td>7.243680e+07</td>\n",
       "      <td>1.567349e+05</td>\n",
       "      <td>19333.196884</td>\n",
       "      <td>2.099191</td>\n",
       "      <td>423.934717</td>\n",
       "      <td>4.410129e+07</td>\n",
       "      <td>4729.843994</td>\n",
       "      <td>1.055894</td>\n",
       "      <td>21847.848698</td>\n",
       "      <td>9.846291</td>\n",
       "    </tr>\n",
       "    <tr>\n",
       "      <th>min</th>\n",
       "      <td>0.000000</td>\n",
       "      <td>0.000000</td>\n",
       "      <td>0.000000</td>\n",
       "      <td>1.000000</td>\n",
       "      <td>37.000000</td>\n",
       "      <td>0.000000</td>\n",
       "      <td>0.000000</td>\n",
       "      <td>0.000000</td>\n",
       "      <td>1.620000e+02</td>\n",
       "      <td>1.030000e+02</td>\n",
       "      <td>0.000000</td>\n",
       "      <td>0.000000</td>\n",
       "      <td>6.000000</td>\n",
       "      <td>2.180000e+02</td>\n",
       "      <td>0.000000</td>\n",
       "      <td>1.600000</td>\n",
       "      <td>0.000000</td>\n",
       "      <td>1929.000000</td>\n",
       "    </tr>\n",
       "    <tr>\n",
       "      <th>25%</th>\n",
       "      <td>0.000000</td>\n",
       "      <td>5.700000</td>\n",
       "      <td>138.000000</td>\n",
       "      <td>78.000000</td>\n",
       "      <td>96.000000</td>\n",
       "      <td>11.000000</td>\n",
       "      <td>230.250000</td>\n",
       "      <td>807.250000</td>\n",
       "      <td>1.220310e+07</td>\n",
       "      <td>2.138275e+04</td>\n",
       "      <td>2172.250000</td>\n",
       "      <td>0.000000</td>\n",
       "      <td>116.000000</td>\n",
       "      <td>1.200000e+07</td>\n",
       "      <td>435.250000</td>\n",
       "      <td>5.800000</td>\n",
       "      <td>0.000000</td>\n",
       "      <td>1999.000000</td>\n",
       "    </tr>\n",
       "    <tr>\n",
       "      <th>50%</th>\n",
       "      <td>0.000000</td>\n",
       "      <td>6.200000</td>\n",
       "      <td>416.000000</td>\n",
       "      <td>140.000000</td>\n",
       "      <td>106.000000</td>\n",
       "      <td>65.000000</td>\n",
       "      <td>462.500000</td>\n",
       "      <td>2000.000000</td>\n",
       "      <td>3.395762e+07</td>\n",
       "      <td>5.703900e+04</td>\n",
       "      <td>4529.000000</td>\n",
       "      <td>1.000000</td>\n",
       "      <td>217.000000</td>\n",
       "      <td>2.600000e+07</td>\n",
       "      <td>723.000000</td>\n",
       "      <td>6.500000</td>\n",
       "      <td>245.000000</td>\n",
       "      <td>2004.000000</td>\n",
       "    </tr>\n",
       "    <tr>\n",
       "      <th>75%</th>\n",
       "      <td>1.000000</td>\n",
       "      <td>6.800000</td>\n",
       "      <td>1120.500000</td>\n",
       "      <td>226.000000</td>\n",
       "      <td>120.000000</td>\n",
       "      <td>241.000000</td>\n",
       "      <td>719.750000</td>\n",
       "      <td>13000.000000</td>\n",
       "      <td>7.266003e+07</td>\n",
       "      <td>1.353745e+05</td>\n",
       "      <td>16962.500000</td>\n",
       "      <td>2.000000</td>\n",
       "      <td>417.500000</td>\n",
       "      <td>5.500000e+07</td>\n",
       "      <td>1000.000000</td>\n",
       "      <td>7.100000</td>\n",
       "      <td>11000.000000</td>\n",
       "      <td>2010.000000</td>\n",
       "    </tr>\n",
       "    <tr>\n",
       "      <th>max</th>\n",
       "      <td>1.000000</td>\n",
       "      <td>9.300000</td>\n",
       "      <td>14075.000000</td>\n",
       "      <td>813.000000</td>\n",
       "      <td>330.000000</td>\n",
       "      <td>23000.000000</td>\n",
       "      <td>23000.000000</td>\n",
       "      <td>640000.000000</td>\n",
       "      <td>7.605058e+08</td>\n",
       "      <td>1.689764e+06</td>\n",
       "      <td>656730.000000</td>\n",
       "      <td>43.000000</td>\n",
       "      <td>5060.000000</td>\n",
       "      <td>3.000000e+08</td>\n",
       "      <td>137000.000000</td>\n",
       "      <td>9.300000</td>\n",
       "      <td>349000.000000</td>\n",
       "      <td>2016.000000</td>\n",
       "    </tr>\n",
       "  </tbody>\n",
       "</table>\n",
       "</div>"
      ],
      "text/plain": [
       "       belongs_to_collection  vote_average    vote_count  \\\n",
       "count            3358.000000   3358.000000   3358.000000   \n",
       "mean                0.250744      6.190887    954.145920   \n",
       "std                 0.433506      0.882913   1448.036597   \n",
       "min                 0.000000      0.000000      0.000000   \n",
       "25%                 0.000000      5.700000    138.000000   \n",
       "50%                 0.000000      6.200000    416.000000   \n",
       "75%                 1.000000      6.800000   1120.500000   \n",
       "max                 1.000000      9.300000  14075.000000   \n",
       "\n",
       "       num_critic_for_reviews     duration  director_facebook_likes  \\\n",
       "count             3358.000000  3358.000000              3358.000000   \n",
       "mean               169.294223   110.233770               860.966647   \n",
       "std                124.773653    22.353895              3209.121228   \n",
       "min                  1.000000    37.000000                 0.000000   \n",
       "25%                 78.000000    96.000000                11.000000   \n",
       "50%                140.000000   106.000000                65.000000   \n",
       "75%                226.000000   120.000000               241.000000   \n",
       "max                813.000000   330.000000             23000.000000   \n",
       "\n",
       "       actor_3_facebook_likes  actor_1_facebook_likes       revenue  \\\n",
       "count             3358.000000             3358.000000  3.358000e+03   \n",
       "mean               824.218285             8135.464562  5.732073e+07   \n",
       "std               1973.656712            15538.326953  7.243680e+07   \n",
       "min                  0.000000                0.000000  1.620000e+02   \n",
       "25%                230.250000              807.250000  1.220310e+07   \n",
       "50%                462.500000             2000.000000  3.395762e+07   \n",
       "75%                719.750000            13000.000000  7.266003e+07   \n",
       "max              23000.000000           640000.000000  7.605058e+08   \n",
       "\n",
       "       num_voted_users  cast_total_facebook_likes  facenumber_in_poster  \\\n",
       "count     3.358000e+03                3358.000000           3358.000000   \n",
       "mean      1.104946e+05               12190.299285              1.414532   \n",
       "std       1.567349e+05               19333.196884              2.099191   \n",
       "min       1.030000e+02                   0.000000              0.000000   \n",
       "25%       2.138275e+04                2172.250000              0.000000   \n",
       "50%       5.703900e+04                4529.000000              1.000000   \n",
       "75%       1.353745e+05               16962.500000              2.000000   \n",
       "max       1.689764e+06              656730.000000             43.000000   \n",
       "\n",
       "       num_user_for_reviews        budget  actor_2_facebook_likes  \\\n",
       "count           3358.000000  3.358000e+03             3358.000000   \n",
       "mean             351.083681  4.103701e+07             2171.393985   \n",
       "std              423.934717  4.410129e+07             4729.843994   \n",
       "min                6.000000  2.180000e+02                0.000000   \n",
       "25%              116.000000  1.200000e+07              435.250000   \n",
       "50%              217.000000  2.600000e+07              723.000000   \n",
       "75%              417.500000  5.500000e+07             1000.000000   \n",
       "max             5060.000000  3.000000e+08           137000.000000   \n",
       "\n",
       "        imdb_score  movie_facebook_likes  release_year  \n",
       "count  3358.000000           3358.000000   3358.000000  \n",
       "mean      6.407058           9568.661108   2003.037522  \n",
       "std       1.055894          21847.848698      9.846291  \n",
       "min       1.600000              0.000000   1929.000000  \n",
       "25%       5.800000              0.000000   1999.000000  \n",
       "50%       6.500000            245.000000   2004.000000  \n",
       "75%       7.100000          11000.000000   2010.000000  \n",
       "max       9.300000         349000.000000   2016.000000  "
      ]
     },
     "execution_count": 23,
     "metadata": {},
     "output_type": "execute_result"
    }
   ],
   "source": [
    "movies.describe()"
   ]
  },
  {
   "cell_type": "markdown",
   "metadata": {
    "colab_type": "text",
    "id": "pWxaXr980L2F"
   },
   "source": [
    "The extremely left skewed distribution is called a pareto distribution."
   ]
  },
  {
   "cell_type": "code",
   "execution_count": 24,
   "metadata": {
    "colab": {
     "base_uri": "https://localhost:8080/",
     "height": 366
    },
    "colab_type": "code",
    "id": "sOFCCP0ZCRLp",
    "outputId": "562c7e19-a0de-4a88-cc0e-5851ab999502"
   },
   "outputs": [
    {
     "data": {
      "text/plain": [
       "Text(0.5, 0, 'Revenue')"
      ]
     },
     "execution_count": 24,
     "metadata": {},
     "output_type": "execute_result"
    },
    {
     "data": {
      "image/png": "[encoded data removed]",
      "text/plain": [
       "<Figure size 1080x360 with 1 Axes>"
      ]
     },
     "metadata": {
      "needs_background": "light"
     },
     "output_type": "display_data"
    }
   ],
   "source": [
    "fig, ax = plt.subplots(figsize = (15, 5))\n",
    "sns.distplot(movies['revenue'])\n",
    "plt.xlabel('Revenue')\n",
    "#fig.savefig('revenue_dist.png', format='png', dpi=1200)\n",
    "#files.download(\"revenue_dist.png\") "
   ]
  },
  {
   "cell_type": "code",
   "execution_count": 25,
   "metadata": {
    "colab": {
     "base_uri": "https://localhost:8080/",
     "height": 600
    },
    "colab_type": "code",
    "id": "6pYbM_UKRRME",
    "outputId": "660f10b6-f67a-4b60-f439-23eb911ee0c7"
   },
   "outputs": [
    {
     "data": {
      "image/png": "[encoded data removed]",
      "text/plain": [
       "<Figure size 432x288 with 1 Axes>"
      ]
     },
     "metadata": {
      "needs_background": "light"
     },
     "output_type": "display_data"
    },
    {
     "data": {
      "image/png": "[encoded data removed]",
      "text/plain": [
       "<Figure size 720x360 with 1 Axes>"
      ]
     },
     "metadata": {
      "needs_background": "light"
     },
     "output_type": "display_data"
    }
   ],
   "source": [
    "from pylab import figure, text, scatter, show\n",
    "fix, ax = plt.subplots()\n",
    "plt.figure(figsize = (10, 5))\n",
    "sns.regplot(x = movies['vote_count'], y = movies['revenue'], scatter_kws = {'s':2})\n",
    "sns.despine(top = True, right = True)\n",
    "#text(0.2, 1.0, 'Correlation: ' + str(np.corrcoef(movies['vote_count'], movies['revenue'])[0,1].round(4)), horizontalalignment='center', verticalalignment='center', transform = ax.transAxes)\n",
    "#plt.savefig('corr.png', dpi = 1200)\n",
    "#files.download('corr.png')"
   ]
  },
  {
   "cell_type": "code",
   "execution_count": 26,
   "metadata": {
    "colab": {
     "base_uri": "https://localhost:8080/",
     "height": 35
    },
    "colab_type": "code",
    "id": "SoyRvMlKTJOs",
    "outputId": "5208fa64-2d53-4b14-9ca6-1bfc3527c22c"
   },
   "outputs": [
    {
     "data": {
      "text/plain": [
       "0.7514927348521296"
      ]
     },
     "execution_count": 26,
     "metadata": {},
     "output_type": "execute_result"
    }
   ],
   "source": [
    "np.corrcoef(movies['vote_count'], movies['revenue'])[0, 1]"
   ]
  },
  {
   "cell_type": "code",
   "execution_count": 27,
   "metadata": {
    "colab": {
     "base_uri": "https://localhost:8080/",
     "height": 708
    },
    "colab_type": "code",
    "id": "mP2sZe-6SFHL",
    "outputId": "1e0e7f7e-6a8d-4e57-c62e-43044e9e0c32"
   },
   "outputs": [
    {
     "data": {
      "text/plain": [
       "(array([ 0,  1,  2,  3,  4,  5,  6,  7,  8,  9, 10, 11, 12, 13, 14, 15, 16,\n",
       "        17, 18, 19, 20, 21, 22, 23, 24, 25, 26, 27, 28, 29, 30, 31, 32, 33,\n",
       "        34, 35, 36, 37, 38, 39, 40, 41, 42, 43, 44, 45, 46, 47, 48, 49, 50,\n",
       "        51, 52, 53, 54, 55, 56, 57, 58, 59, 60, 61, 62, 63, 64, 65, 66, 67,\n",
       "        68, 69]), <a list of 70 Text xticklabel objects>)"
      ]
     },
     "execution_count": 27,
     "metadata": {},
     "output_type": "execute_result"
    },
    {
     "data": {
      "image/png": "[encoded data removed]",
      "text/plain": [
       "<Figure size 1440x720 with 1 Axes>"
      ]
     },
     "metadata": {
      "needs_background": "light"
     },
     "output_type": "display_data"
    }
   ],
   "source": [
    "plt.figure(figsize = (20, 10))\n",
    "sns.countplot(x = 'release_year', data = movies, palette=(\"Blues_d\"))\n",
    "plt.xticks(rotation = 90, fontsize=8)\n",
    "#plt.savefig('count_of_movies_each_year.png', dpi = 1200)\n",
    "#files.download('count_of_movies_each_year.png')"
   ]
  },
  {
   "cell_type": "markdown",
   "metadata": {
    "colab_type": "text",
    "id": "xdTzXlyeTq_O"
   },
   "source": [
    "Movies released before 1990 will not be taken into consideration as only a few movies are released."
   ]
  },
  {
   "cell_type": "code",
   "execution_count": 28,
   "metadata": {
    "colab": {
     "base_uri": "https://localhost:8080/",
     "height": 428
    },
    "colab_type": "code",
    "id": "Ve88y54_a0gS",
    "outputId": "8e84518b-3499-47e6-eebe-bea28641ee59"
   },
   "outputs": [
    {
     "data": {
      "text/html": [
       "<div>\n",
       "<style scoped>\n",
       "    .dataframe tbody tr th:only-of-type {\n",
       "        vertical-align: middle;\n",
       "    }\n",
       "\n",
       "    .dataframe tbody tr th {\n",
       "        vertical-align: top;\n",
       "    }\n",
       "\n",
       "    .dataframe thead th {\n",
       "        text-align: right;\n",
       "    }\n",
       "</style>\n",
       "<table border=\"1\" class=\"dataframe\">\n",
       "  <thead>\n",
       "    <tr style=\"text-align: right;\">\n",
       "      <th></th>\n",
       "      <th>budget</th>\n",
       "    </tr>\n",
       "    <tr>\n",
       "      <th>release_year</th>\n",
       "      <th></th>\n",
       "    </tr>\n",
       "  </thead>\n",
       "  <tbody>\n",
       "    <tr>\n",
       "      <th>1929</th>\n",
       "      <td>3.790000e+05</td>\n",
       "    </tr>\n",
       "    <tr>\n",
       "      <th>1933</th>\n",
       "      <td>4.390000e+05</td>\n",
       "    </tr>\n",
       "    <tr>\n",
       "      <th>1935</th>\n",
       "      <td>6.090000e+05</td>\n",
       "    </tr>\n",
       "    <tr>\n",
       "      <th>1936</th>\n",
       "      <td>1.500000e+06</td>\n",
       "    </tr>\n",
       "    <tr>\n",
       "      <th>1937</th>\n",
       "      <td>2.000000e+06</td>\n",
       "    </tr>\n",
       "    <tr>\n",
       "      <th>1939</th>\n",
       "      <td>6.777000e+06</td>\n",
       "    </tr>\n",
       "    <tr>\n",
       "      <th>1940</th>\n",
       "      <td>2.600000e+06</td>\n",
       "    </tr>\n",
       "    <tr>\n",
       "      <th>1946</th>\n",
       "      <td>1.010000e+07</td>\n",
       "    </tr>\n",
       "    <tr>\n",
       "      <th>1947</th>\n",
       "      <td>2.300000e+06</td>\n",
       "    </tr>\n",
       "    <tr>\n",
       "      <th>1948</th>\n",
       "      <td>3.700000e+06</td>\n",
       "    </tr>\n",
       "    <tr>\n",
       "      <th>1950</th>\n",
       "      <td>3.768785e+06</td>\n",
       "    </tr>\n",
       "    <tr>\n",
       "      <th>1952</th>\n",
       "      <td>4.000000e+06</td>\n",
       "    </tr>\n",
       "    <tr>\n",
       "      <th>1953</th>\n",
       "      <td>5.210000e+06</td>\n",
       "    </tr>\n",
       "    <tr>\n",
       "      <th>1954</th>\n",
       "      <td>9.100000e+05</td>\n",
       "    </tr>\n",
       "    <tr>\n",
       "      <th>1957</th>\n",
       "      <td>3.000000e+06</td>\n",
       "    </tr>\n",
       "    <tr>\n",
       "      <th>1959</th>\n",
       "      <td>2.883848e+06</td>\n",
       "    </tr>\n",
       "    <tr>\n",
       "      <th>1960</th>\n",
       "      <td>8.069470e+05</td>\n",
       "    </tr>\n",
       "    <tr>\n",
       "      <th>1961</th>\n",
       "      <td>6.000000e+06</td>\n",
       "    </tr>\n",
       "    <tr>\n",
       "      <th>1963</th>\n",
       "      <td>4.051500e+07</td>\n",
       "    </tr>\n",
       "    <tr>\n",
       "      <th>1964</th>\n",
       "      <td>2.600000e+07</td>\n",
       "    </tr>\n",
       "    <tr>\n",
       "      <th>1965</th>\n",
       "      <td>5.200000e+07</td>\n",
       "    </tr>\n",
       "    <tr>\n",
       "      <th>1968</th>\n",
       "      <td>1.200000e+07</td>\n",
       "    </tr>\n",
       "    <tr>\n",
       "      <th>1969</th>\n",
       "      <td>1.300000e+07</td>\n",
       "    </tr>\n",
       "    <tr>\n",
       "      <th>1970</th>\n",
       "      <td>5.150000e+07</td>\n",
       "    </tr>\n",
       "    <tr>\n",
       "      <th>1971</th>\n",
       "      <td>1.670000e+07</td>\n",
       "    </tr>\n",
       "    <tr>\n",
       "      <th>1972</th>\n",
       "      <td>6.010000e+06</td>\n",
       "    </tr>\n",
       "    <tr>\n",
       "      <th>1973</th>\n",
       "      <td>1.477700e+07</td>\n",
       "    </tr>\n",
       "    <tr>\n",
       "      <th>1974</th>\n",
       "      <td>3.206706e+07</td>\n",
       "    </tr>\n",
       "    <tr>\n",
       "      <th>1975</th>\n",
       "      <td>1.240000e+07</td>\n",
       "    </tr>\n",
       "    <tr>\n",
       "      <th>1976</th>\n",
       "      <td>9.960000e+06</td>\n",
       "    </tr>\n",
       "    <tr>\n",
       "      <th>...</th>\n",
       "      <td>...</td>\n",
       "    </tr>\n",
       "    <tr>\n",
       "      <th>1987</th>\n",
       "      <td>3.602500e+08</td>\n",
       "    </tr>\n",
       "    <tr>\n",
       "      <th>1988</th>\n",
       "      <td>4.192000e+08</td>\n",
       "    </tr>\n",
       "    <tr>\n",
       "      <th>1989</th>\n",
       "      <td>5.968600e+08</td>\n",
       "    </tr>\n",
       "    <tr>\n",
       "      <th>1990</th>\n",
       "      <td>8.792480e+08</td>\n",
       "    </tr>\n",
       "    <tr>\n",
       "      <th>1991</th>\n",
       "      <td>7.795000e+08</td>\n",
       "    </tr>\n",
       "    <tr>\n",
       "      <th>1992</th>\n",
       "      <td>8.481000e+08</td>\n",
       "    </tr>\n",
       "    <tr>\n",
       "      <th>1993</th>\n",
       "      <td>8.386000e+08</td>\n",
       "    </tr>\n",
       "    <tr>\n",
       "      <th>1994</th>\n",
       "      <td>1.499630e+09</td>\n",
       "    </tr>\n",
       "    <tr>\n",
       "      <th>1995</th>\n",
       "      <td>2.186925e+09</td>\n",
       "    </tr>\n",
       "    <tr>\n",
       "      <th>1996</th>\n",
       "      <td>2.977320e+09</td>\n",
       "    </tr>\n",
       "    <tr>\n",
       "      <th>1997</th>\n",
       "      <td>3.741000e+09</td>\n",
       "    </tr>\n",
       "    <tr>\n",
       "      <th>1998</th>\n",
       "      <td>4.006170e+09</td>\n",
       "    </tr>\n",
       "    <tr>\n",
       "      <th>1999</th>\n",
       "      <td>4.838312e+09</td>\n",
       "    </tr>\n",
       "    <tr>\n",
       "      <th>2000</th>\n",
       "      <td>5.359192e+09</td>\n",
       "    </tr>\n",
       "    <tr>\n",
       "      <th>2001</th>\n",
       "      <td>5.789840e+09</td>\n",
       "    </tr>\n",
       "    <tr>\n",
       "      <th>2002</th>\n",
       "      <td>6.093225e+09</td>\n",
       "    </tr>\n",
       "    <tr>\n",
       "      <th>2003</th>\n",
       "      <td>5.601130e+09</td>\n",
       "    </tr>\n",
       "    <tr>\n",
       "      <th>2004</th>\n",
       "      <td>6.379122e+09</td>\n",
       "    </tr>\n",
       "    <tr>\n",
       "      <th>2005</th>\n",
       "      <td>6.891215e+09</td>\n",
       "    </tr>\n",
       "    <tr>\n",
       "      <th>2006</th>\n",
       "      <td>6.323250e+09</td>\n",
       "    </tr>\n",
       "    <tr>\n",
       "      <th>2007</th>\n",
       "      <td>5.850065e+09</td>\n",
       "    </tr>\n",
       "    <tr>\n",
       "      <th>2008</th>\n",
       "      <td>6.860100e+09</td>\n",
       "    </tr>\n",
       "    <tr>\n",
       "      <th>2009</th>\n",
       "      <td>7.190425e+09</td>\n",
       "    </tr>\n",
       "    <tr>\n",
       "      <th>2010</th>\n",
       "      <td>7.858315e+09</td>\n",
       "    </tr>\n",
       "    <tr>\n",
       "      <th>2011</th>\n",
       "      <td>6.690365e+09</td>\n",
       "    </tr>\n",
       "    <tr>\n",
       "      <th>2012</th>\n",
       "      <td>7.433295e+09</td>\n",
       "    </tr>\n",
       "    <tr>\n",
       "      <th>2013</th>\n",
       "      <td>8.024550e+09</td>\n",
       "    </tr>\n",
       "    <tr>\n",
       "      <th>2014</th>\n",
       "      <td>7.423336e+09</td>\n",
       "    </tr>\n",
       "    <tr>\n",
       "      <th>2015</th>\n",
       "      <td>7.074595e+09</td>\n",
       "    </tr>\n",
       "    <tr>\n",
       "      <th>2016</th>\n",
       "      <td>4.572400e+09</td>\n",
       "    </tr>\n",
       "  </tbody>\n",
       "</table>\n",
       "<p>70 rows × 1 columns</p>\n",
       "</div>"
      ],
      "text/plain": [
       "                    budget\n",
       "release_year              \n",
       "1929          3.790000e+05\n",
       "1933          4.390000e+05\n",
       "1935          6.090000e+05\n",
       "1936          1.500000e+06\n",
       "1937          2.000000e+06\n",
       "1939          6.777000e+06\n",
       "1940          2.600000e+06\n",
       "1946          1.010000e+07\n",
       "1947          2.300000e+06\n",
       "1948          3.700000e+06\n",
       "1950          3.768785e+06\n",
       "1952          4.000000e+06\n",
       "1953          5.210000e+06\n",
       "1954          9.100000e+05\n",
       "1957          3.000000e+06\n",
       "1959          2.883848e+06\n",
       "1960          8.069470e+05\n",
       "1961          6.000000e+06\n",
       "1963          4.051500e+07\n",
       "1964          2.600000e+07\n",
       "1965          5.200000e+07\n",
       "1968          1.200000e+07\n",
       "1969          1.300000e+07\n",
       "1970          5.150000e+07\n",
       "1971          1.670000e+07\n",
       "1972          6.010000e+06\n",
       "1973          1.477700e+07\n",
       "1974          3.206706e+07\n",
       "1975          1.240000e+07\n",
       "1976          9.960000e+06\n",
       "...                    ...\n",
       "1987          3.602500e+08\n",
       "1988          4.192000e+08\n",
       "1989          5.968600e+08\n",
       "1990          8.792480e+08\n",
       "1991          7.795000e+08\n",
       "1992          8.481000e+08\n",
       "1993          8.386000e+08\n",
       "1994          1.499630e+09\n",
       "1995          2.186925e+09\n",
       "1996          2.977320e+09\n",
       "1997          3.741000e+09\n",
       "1998          4.006170e+09\n",
       "1999          4.838312e+09\n",
       "2000          5.359192e+09\n",
       "2001          5.789840e+09\n",
       "2002          6.093225e+09\n",
       "2003          5.601130e+09\n",
       "2004          6.379122e+09\n",
       "2005          6.891215e+09\n",
       "2006          6.323250e+09\n",
       "2007          5.850065e+09\n",
       "2008          6.860100e+09\n",
       "2009          7.190425e+09\n",
       "2010          7.858315e+09\n",
       "2011          6.690365e+09\n",
       "2012          7.433295e+09\n",
       "2013          8.024550e+09\n",
       "2014          7.423336e+09\n",
       "2015          7.074595e+09\n",
       "2016          4.572400e+09\n",
       "\n",
       "[70 rows x 1 columns]"
      ]
     },
     "execution_count": 28,
     "metadata": {},
     "output_type": "execute_result"
    }
   ],
   "source": [
    "pd.DataFrame(movies.groupby('release_year').sum()['budget'])"
   ]
  },
  {
   "cell_type": "code",
   "execution_count": 29,
   "metadata": {
    "colab": {},
    "colab_type": "code",
    "id": "iUUzOGAeTr4G"
   },
   "outputs": [],
   "source": [
    "movies_after_1995 = movies[(movies['release_year'] >= 1995) & (movies['release_year'] != 2017)]"
   ]
  },
  {
   "cell_type": "code",
   "execution_count": 30,
   "metadata": {
    "colab": {},
    "colab_type": "code",
    "id": "855zy_7oaYiP"
   },
   "outputs": [
    {
     "data": {
      "text/plain": [
       "<matplotlib.axes._subplots.AxesSubplot at 0x21673af6780>"
      ]
     },
     "execution_count": 30,
     "metadata": {},
     "output_type": "execute_result"
    },
    {
     "data": {
      "image/png": "[encoded data removed]",
      "text/plain": [
       "<Figure size 1080x504 with 2 Axes>"
      ]
     },
     "metadata": {
      "needs_background": "light"
     },
     "output_type": "display_data"
    }
   ],
   "source": [
    "movies_numerical = movies_after_1995.select_dtypes(include = 'number').dropna()\n",
    "pt = movies_after_1995.pivot_table(index = 'release_month', columns = 'release_year', values = 'revenue').reindex(index = months[1:])\n",
    "fig, ax = plt.subplots(figsize=(15, 7)) \n",
    "ax.tick_params(axis=\"x\", labelsize = 15)\n",
    "ax.tick_params(axis=\"y\", labelsize = 15)\n",
    "sns.heatmap(pt)\n",
    "#plt.savefig('heatmap.png', dpi = 1200)\n",
    "#files.download('heatmap.png')"
   ]
  },
  {
   "cell_type": "code",
   "execution_count": 31,
   "metadata": {
    "colab": {},
    "colab_type": "code",
    "id": "3gHZBf1rIyoX"
   },
   "outputs": [],
   "source": [
    "top_10_directors = list(movies.groupby('director_name').sum().sort_values(by = 'revenue', ascending = False).head(10).reset_index()['director_name'])\n",
    "top_10_directors_revenue = list(movies.groupby('director_name').sum().sort_values(by = 'revenue', ascending = False).head(10).reset_index()['revenue'])\n",
    "directors_and_revenue_dict = dict(zip(top_10_directors, top_10_directors_revenue))\n",
    "movies_numerical['top_director'] = movies['director_name'].apply(lambda x: 1 if x in top_10_directors else 0)"
   ]
  },
  {
   "cell_type": "code",
   "execution_count": 32,
   "metadata": {
    "colab": {},
    "colab_type": "code",
    "id": "cbPGs8pUsqme"
   },
   "outputs": [
    {
     "data": {
      "text/html": [
       "<div>\n",
       "<style scoped>\n",
       "    .dataframe tbody tr th:only-of-type {\n",
       "        vertical-align: middle;\n",
       "    }\n",
       "\n",
       "    .dataframe tbody tr th {\n",
       "        vertical-align: top;\n",
       "    }\n",
       "\n",
       "    .dataframe thead th {\n",
       "        text-align: right;\n",
       "    }\n",
       "</style>\n",
       "<table border=\"1\" class=\"dataframe\">\n",
       "  <thead>\n",
       "    <tr style=\"text-align: right;\">\n",
       "      <th></th>\n",
       "      <th>director_name</th>\n",
       "      <th>revenue</th>\n",
       "    </tr>\n",
       "  </thead>\n",
       "  <tbody>\n",
       "    <tr>\n",
       "      <th>0</th>\n",
       "      <td>Steven Spielberg</td>\n",
       "      <td>4.114233e+09</td>\n",
       "    </tr>\n",
       "    <tr>\n",
       "      <th>1</th>\n",
       "      <td>Peter Jackson</td>\n",
       "      <td>2.286919e+09</td>\n",
       "    </tr>\n",
       "    <tr>\n",
       "      <th>2</th>\n",
       "      <td>Michael Bay</td>\n",
       "      <td>2.231243e+09</td>\n",
       "    </tr>\n",
       "    <tr>\n",
       "      <th>3</th>\n",
       "      <td>Tim Burton</td>\n",
       "      <td>2.071275e+09</td>\n",
       "    </tr>\n",
       "    <tr>\n",
       "      <th>4</th>\n",
       "      <td>Sam Raimi</td>\n",
       "      <td>2.049549e+09</td>\n",
       "    </tr>\n",
       "    <tr>\n",
       "      <th>5</th>\n",
       "      <td>James Cameron</td>\n",
       "      <td>1.948126e+09</td>\n",
       "    </tr>\n",
       "    <tr>\n",
       "      <th>6</th>\n",
       "      <td>Christopher Nolan</td>\n",
       "      <td>1.813228e+09</td>\n",
       "    </tr>\n",
       "    <tr>\n",
       "      <th>7</th>\n",
       "      <td>George Lucas</td>\n",
       "      <td>1.741418e+09</td>\n",
       "    </tr>\n",
       "    <tr>\n",
       "      <th>8</th>\n",
       "      <td>Joss Whedon</td>\n",
       "      <td>1.730887e+09</td>\n",
       "    </tr>\n",
       "    <tr>\n",
       "      <th>9</th>\n",
       "      <td>Robert Zemeckis</td>\n",
       "      <td>1.619309e+09</td>\n",
       "    </tr>\n",
       "  </tbody>\n",
       "</table>\n",
       "</div>"
      ],
      "text/plain": [
       "       director_name       revenue\n",
       "0   Steven Spielberg  4.114233e+09\n",
       "1      Peter Jackson  2.286919e+09\n",
       "2        Michael Bay  2.231243e+09\n",
       "3         Tim Burton  2.071275e+09\n",
       "4          Sam Raimi  2.049549e+09\n",
       "5      James Cameron  1.948126e+09\n",
       "6  Christopher Nolan  1.813228e+09\n",
       "7       George Lucas  1.741418e+09\n",
       "8        Joss Whedon  1.730887e+09\n",
       "9    Robert Zemeckis  1.619309e+09"
      ]
     },
     "execution_count": 32,
     "metadata": {},
     "output_type": "execute_result"
    }
   ],
   "source": [
    "movies.groupby('director_name').sum().sort_values(by = 'revenue', ascending = False).head(10).reset_index()[['director_name', 'revenue']]"
   ]
  },
  {
   "cell_type": "code",
   "execution_count": 33,
   "metadata": {
    "colab": {},
    "colab_type": "code",
    "id": "6pYdNhpj7M6U"
   },
   "outputs": [
    {
     "data": {
      "image/png": "[encoded data removed]",
      "text/plain": [
       "<Figure size 1080x504 with 1 Axes>"
      ]
     },
     "metadata": {
      "needs_background": "light"
     },
     "output_type": "display_data"
    }
   ],
   "source": [
    "fig, ax = plt.subplots(figsize=(15, 7)) \n",
    "ax = sns.barplot(x = 'genre', y = 'revenue', data = movies, palette=(\"Blues_d\"))\n",
    "ax.set_xticklabels(ax.get_xticklabels(), rotation = 30)\n",
    "plt.title('Average Revenue per Genre')\n",
    "plt.show()\n",
    "#plt.savefig('avg_revenue_genre.png', format = 'png', dpi = 1200)\n",
    "#files.download('avg_revenue_genre.png')\n",
    "#movies = movies.drop('genre', axis = 1)"
   ]
  },
  {
   "cell_type": "code",
   "execution_count": 34,
   "metadata": {
    "colab": {},
    "colab_type": "code",
    "id": "4wy8vDfm7NZO"
   },
   "outputs": [],
   "source": [
    "movies_numerical['action_or_adventure'] = movies['genre'].apply(lambda x: 1 if x == 'Action' or x == 'Adventure' else 0)"
   ]
  },
  {
   "cell_type": "markdown",
   "metadata": {
    "colab_type": "text",
    "id": "yC_d_IOUgHbM"
   },
   "source": [
    "## Backward Elimination"
   ]
  },
  {
   "cell_type": "markdown",
   "metadata": {
    "colab_type": "text",
    "id": "th4FoSqrH0Bp"
   },
   "source": [
    "Using a significance level (SL) of 0.05 (the industry standard), I will remove all features with a p-value greater than the SL, although one at a time. Each iteration, the highest p-value is removed.\n",
    "\n",
    "Afterwards, I recompute the p-values again and repeat until no features have p-values above SL.\n",
    "\n",
    "Also, below code is needed because statsmodel doesn't include the column of ones by default."
   ]
  },
  {
   "cell_type": "code",
   "execution_count": 35,
   "metadata": {
    "colab": {},
    "colab_type": "code",
    "id": "xIvxkzl3BUh6"
   },
   "outputs": [
    {
     "name": "stdout",
     "output_type": "stream",
     "text": [
      "813787443.4240371\n"
     ]
    }
   ],
   "source": [
    "X = movies_numerical.loc[:, movies_numerical.columns != 'revenue']\n",
    "Y = movies_numerical['revenue']\n",
    "X_train, X_test, Y_train, Y_test = train_test_split(X, Y, test_size = 20)\n",
    "model = LinearRegression(fit_intercept = True)\n",
    "model.fit(X_train, Y_train)#, sample_weight = self.sample_weight)\n",
    "intercept = model.intercept_\n",
    "print(intercept)"
   ]
  },
  {
   "cell_type": "code",
   "execution_count": 36,
   "metadata": {
    "colab": {
     "base_uri": "https://localhost:8080/",
     "height": 239
    },
    "colab_type": "code",
    "id": "RTde8uzKhags",
    "outputId": "6b3e160c-900f-4ec6-939a-64f2d692a74d"
   },
   "outputs": [
    {
     "data": {
      "text/html": [
       "<table class=\"simpletable\">\n",
       "<caption>OLS Regression Results</caption>\n",
       "<tr>\n",
       "  <th>Dep. Variable:</th>         <td>revenue</td>     <th>  R-squared:         </th> <td>   0.738</td> \n",
       "</tr>\n",
       "<tr>\n",
       "  <th>Model:</th>                   <td>OLS</td>       <th>  Adj. R-squared:    </th> <td>   0.736</td> \n",
       "</tr>\n",
       "<tr>\n",
       "  <th>Method:</th>             <td>Least Squares</td>  <th>  F-statistic:       </th> <td>   509.3</td> \n",
       "</tr>\n",
       "<tr>\n",
       "  <th>Date:</th>             <td>Fri, 22 May 2020</td> <th>  Prob (F-statistic):</th>  <td>  0.00</td>  \n",
       "</tr>\n",
       "<tr>\n",
       "  <th>Time:</th>                 <td>23:53:35</td>     <th>  Log-Likelihood:    </th> <td> -54918.</td> \n",
       "</tr>\n",
       "<tr>\n",
       "  <th>No. Observations:</th>      <td>  2912</td>      <th>  AIC:               </th> <td>1.099e+05</td>\n",
       "</tr>\n",
       "<tr>\n",
       "  <th>Df Residuals:</th>          <td>  2895</td>      <th>  BIC:               </th> <td>1.100e+05</td>\n",
       "</tr>\n",
       "<tr>\n",
       "  <th>Df Model:</th>              <td>    16</td>      <th>                     </th>     <td> </td>    \n",
       "</tr>\n",
       "<tr>\n",
       "  <th>Covariance Type:</th>      <td>nonrobust</td>    <th>                     </th>     <td> </td>    \n",
       "</tr>\n",
       "</table>\n",
       "<table class=\"simpletable\">\n",
       "<tr>\n",
       "              <td></td>                 <th>coef</th>     <th>std err</th>      <th>t</th>      <th>P>|t|</th>  <th>[0.025</th>    <th>0.975]</th>  \n",
       "</tr>\n",
       "<tr>\n",
       "  <th>belongs_to_collection</th>     <td>  2.26e+07</td> <td> 1.89e+06</td> <td>   11.944</td> <td> 0.000</td> <td> 1.89e+07</td> <td> 2.63e+07</td>\n",
       "</tr>\n",
       "<tr>\n",
       "  <th>vote_average</th>              <td> 7.328e+06</td> <td> 1.89e+06</td> <td>    3.881</td> <td> 0.000</td> <td> 3.63e+06</td> <td>  1.1e+07</td>\n",
       "</tr>\n",
       "<tr>\n",
       "  <th>vote_count</th>                <td> 3.181e+04</td> <td> 1451.774</td> <td>   21.909</td> <td> 0.000</td> <td>  2.9e+04</td> <td> 3.47e+04</td>\n",
       "</tr>\n",
       "<tr>\n",
       "  <th>duration</th>                  <td>-1.187e+05</td> <td> 4.36e+04</td> <td>   -2.720</td> <td> 0.007</td> <td>-2.04e+05</td> <td>-3.31e+04</td>\n",
       "</tr>\n",
       "<tr>\n",
       "  <th>director_facebook_likes</th>   <td>-1418.4105</td> <td>  255.132</td> <td>   -5.560</td> <td> 0.000</td> <td>-1918.670</td> <td> -918.151</td>\n",
       "</tr>\n",
       "<tr>\n",
       "  <th>actor_3_facebook_likes</th>    <td>-5949.3429</td> <td>  978.993</td> <td>   -6.077</td> <td> 0.000</td> <td>-7868.936</td> <td>-4029.749</td>\n",
       "</tr>\n",
       "<tr>\n",
       "  <th>actor_1_facebook_likes</th>    <td>-5024.5994</td> <td>  592.564</td> <td>   -8.479</td> <td> 0.000</td> <td>-6186.489</td> <td>-3862.710</td>\n",
       "</tr>\n",
       "<tr>\n",
       "  <th>num_voted_users</th>           <td>  -37.6561</td> <td>   13.431</td> <td>   -2.804</td> <td> 0.005</td> <td>  -63.991</td> <td>  -11.322</td>\n",
       "</tr>\n",
       "<tr>\n",
       "  <th>cast_total_facebook_likes</th> <td> 4927.6744</td> <td>  591.545</td> <td>    8.330</td> <td> 0.000</td> <td> 3767.783</td> <td> 6087.566</td>\n",
       "</tr>\n",
       "<tr>\n",
       "  <th>num_user_for_reviews</th>      <td> 1.152e+04</td> <td> 2797.639</td> <td>    4.119</td> <td> 0.000</td> <td> 6038.338</td> <td>  1.7e+04</td>\n",
       "</tr>\n",
       "<tr>\n",
       "  <th>budget</th>                    <td>    0.5461</td> <td>    0.023</td> <td>   23.411</td> <td> 0.000</td> <td>    0.500</td> <td>    0.592</td>\n",
       "</tr>\n",
       "<tr>\n",
       "  <th>actor_2_facebook_likes</th>    <td>-4896.6107</td> <td>  626.430</td> <td>   -7.817</td> <td> 0.000</td> <td>-6124.905</td> <td>-3668.317</td>\n",
       "</tr>\n",
       "<tr>\n",
       "  <th>imdb_score</th>                <td>-3.554e+06</td> <td>  1.6e+06</td> <td>   -2.223</td> <td> 0.026</td> <td>-6.69e+06</td> <td>-4.19e+05</td>\n",
       "</tr>\n",
       "<tr>\n",
       "  <th>movie_facebook_likes</th>      <td> -514.4919</td> <td>   44.593</td> <td>  -11.537</td> <td> 0.000</td> <td> -601.929</td> <td> -427.054</td>\n",
       "</tr>\n",
       "<tr>\n",
       "  <th>top_director</th>              <td> 3.654e+07</td> <td> 4.79e+06</td> <td>    7.628</td> <td> 0.000</td> <td> 2.72e+07</td> <td> 4.59e+07</td>\n",
       "</tr>\n",
       "<tr>\n",
       "  <th>action_or_adventure</th>       <td> -1.05e+07</td> <td> 1.77e+06</td> <td>   -5.936</td> <td> 0.000</td> <td> -1.4e+07</td> <td>-7.03e+06</td>\n",
       "</tr>\n",
       "<tr>\n",
       "  <th>intercept</th>                 <td>   -0.0096</td> <td>    0.008</td> <td>   -1.210</td> <td> 0.226</td> <td>   -0.025</td> <td>    0.006</td>\n",
       "</tr>\n",
       "</table>\n",
       "<table class=\"simpletable\">\n",
       "<tr>\n",
       "  <th>Omnibus:</th>       <td>1079.965</td> <th>  Durbin-Watson:     </th> <td>   1.937</td> \n",
       "</tr>\n",
       "<tr>\n",
       "  <th>Prob(Omnibus):</th>  <td> 0.000</td>  <th>  Jarque-Bera (JB):  </th> <td>11922.721</td>\n",
       "</tr>\n",
       "<tr>\n",
       "  <th>Skew:</th>           <td> 1.437</td>  <th>  Prob(JB):          </th> <td>    0.00</td> \n",
       "</tr>\n",
       "<tr>\n",
       "  <th>Kurtosis:</th>       <td>12.487</td>  <th>  Cond. No.          </th> <td>5.60e+09</td> \n",
       "</tr>\n",
       "</table><br/><br/>Warnings:<br/>[1] Standard Errors assume that the covariance matrix of the errors is correctly specified.<br/>[2] The condition number is large, 5.6e+09. This might indicate that there are<br/>strong multicollinearity or other numerical problems."
      ],
      "text/plain": [
       "<class 'statsmodels.iolib.summary.Summary'>\n",
       "\"\"\"\n",
       "                            OLS Regression Results                            \n",
       "==============================================================================\n",
       "Dep. Variable:                revenue   R-squared:                       0.738\n",
       "Model:                            OLS   Adj. R-squared:                  0.736\n",
       "Method:                 Least Squares   F-statistic:                     509.3\n",
       "Date:                Fri, 22 May 2020   Prob (F-statistic):               0.00\n",
       "Time:                        23:53:35   Log-Likelihood:                -54918.\n",
       "No. Observations:                2912   AIC:                         1.099e+05\n",
       "Df Residuals:                    2895   BIC:                         1.100e+05\n",
       "Df Model:                          16                                         \n",
       "Covariance Type:            nonrobust                                         \n",
       "=============================================================================================\n",
       "                                coef    std err          t      P>|t|      [0.025      0.975]\n",
       "---------------------------------------------------------------------------------------------\n",
       "belongs_to_collection       2.26e+07   1.89e+06     11.944      0.000    1.89e+07    2.63e+07\n",
       "vote_average               7.328e+06   1.89e+06      3.881      0.000    3.63e+06     1.1e+07\n",
       "vote_count                 3.181e+04   1451.774     21.909      0.000     2.9e+04    3.47e+04\n",
       "duration                  -1.187e+05   4.36e+04     -2.720      0.007   -2.04e+05   -3.31e+04\n",
       "director_facebook_likes   -1418.4105    255.132     -5.560      0.000   -1918.670    -918.151\n",
       "actor_3_facebook_likes    -5949.3429    978.993     -6.077      0.000   -7868.936   -4029.749\n",
       "actor_1_facebook_likes    -5024.5994    592.564     -8.479      0.000   -6186.489   -3862.710\n",
       "num_voted_users             -37.6561     13.431     -2.804      0.005     -63.991     -11.322\n",
       "cast_total_facebook_likes  4927.6744    591.545      8.330      0.000    3767.783    6087.566\n",
       "num_user_for_reviews       1.152e+04   2797.639      4.119      0.000    6038.338     1.7e+04\n",
       "budget                        0.5461      0.023     23.411      0.000       0.500       0.592\n",
       "actor_2_facebook_likes    -4896.6107    626.430     -7.817      0.000   -6124.905   -3668.317\n",
       "imdb_score                -3.554e+06    1.6e+06     -2.223      0.026   -6.69e+06   -4.19e+05\n",
       "movie_facebook_likes       -514.4919     44.593    -11.537      0.000    -601.929    -427.054\n",
       "top_director               3.654e+07   4.79e+06      7.628      0.000    2.72e+07    4.59e+07\n",
       "action_or_adventure        -1.05e+07   1.77e+06     -5.936      0.000    -1.4e+07   -7.03e+06\n",
       "intercept                    -0.0096      0.008     -1.210      0.226      -0.025       0.006\n",
       "==============================================================================\n",
       "Omnibus:                     1079.965   Durbin-Watson:                   1.937\n",
       "Prob(Omnibus):                  0.000   Jarque-Bera (JB):            11922.721\n",
       "Skew:                           1.437   Prob(JB):                         0.00\n",
       "Kurtosis:                      12.487   Cond. No.                     5.60e+09\n",
       "==============================================================================\n",
       "\n",
       "Warnings:\n",
       "[1] Standard Errors assume that the covariance matrix of the errors is correctly specified.\n",
       "[2] The condition number is large, 5.6e+09. This might indicate that there are\n",
       "strong multicollinearity or other numerical problems.\n",
       "\"\"\""
      ]
     },
     "execution_count": 36,
     "metadata": {},
     "output_type": "execute_result"
    }
   ],
   "source": [
    "movies_with_intercept = movies_numerical.copy()\n",
    "#movies_with_ones = statsmodels.tools.tools.add_constant(movies_with_ones)\n",
    "movies_with_intercept ['intercept'] = intercept\n",
    "#movies_with_ones['const'] = 1\n",
    "X = movies_with_intercept .loc[:, movies_with_intercept .columns != 'revenue']\n",
    "Y = movies_with_intercept ['revenue']\n",
    "insignificant_cols = ['facenumber_in_poster', 'num_critic_for_reviews', 'release_year']\n",
    "X = X.drop(insignificant_cols, axis = 1)\n",
    "regressor_OLS = sm.OLS(endog = Y, exog = X, hasconst = True).fit()\n",
    "regressor_OLS.summary()"
   ]
  },
  {
   "cell_type": "markdown",
   "metadata": {
    "colab_type": "text",
    "id": "-9eg1WCPQxTE"
   },
   "source": [
    "Omnibus/Prob(Omnibus) – a test of the skewness and kurtosis of the residual (characteristic #2). We hope to see a value close to zero which would indicate normalcy. The Prob (Omnibus) performs a statistical test indicating the probability that the residuals are normally distributed. We hope to see something close to 1 here. In this case Omnibus is relatively low and the Prob (Omnibus) is relatively high so the data is somewhat normal, but not altogether ideal. A linear regression approach would probably be better than random guessing but likely not as good as a nonlinear approach.\n",
    "\n",
    "Skew – a measure of data symmetry. We want to see something close to zero, indicating the residual distribution is normal. Note that this value also drives the Omnibus. This result has a small, and therefore good, skew.\n",
    "\n",
    "Kurtosis – a measure of \"peakiness\", or curvature of the data. Higher peaks lead to greater Kurtosis. Greater Kurtosis can be interpreted as a tighter clustering of residuals around zero, implying a better model with few outliers.\n",
    "\n",
    "Durbin-Watson – tests for homoscedasticity (characteristic #3). We hope to have a value between 1 and 2. In this case, the data is close, but within limits.\n",
    "\n",
    "Jarque-Bera (JB)/Prob(JB) – like the Omnibus test in that it tests both skew and kurtosis. We hope to see in this test a confirmation of the Omnibus test. In this case we do.\n",
    "\n",
    "Condition Number – This test measures the sensitivity of a function's output as compared to its input (characteristic #4). When we have multicollinearity, we can expect much higher fluctuations to small changes in the data, hence, we hope to see a relatively small number, something below 30. In this case we are well below 30, which we would expect given our model only has two variables and one is a constant."
   ]
  },
  {
   "cell_type": "code",
   "execution_count": 37,
   "metadata": {
    "colab": {},
    "colab_type": "code",
    "id": "J-CD8_FrvJ6d"
   },
   "outputs": [],
   "source": [
    "movies_be = movies_numerical.copy().drop(insignificant_cols, axis = 1)"
   ]
  },
  {
   "cell_type": "code",
   "execution_count": 38,
   "metadata": {
    "colab": {},
    "colab_type": "code",
    "id": "jv5nzq0Qvn2A"
   },
   "outputs": [
    {
     "data": {
      "image/png": "[encoded data removed]",
      "text/plain": [
       "<Figure size 1296x936 with 2 Axes>"
      ]
     },
     "metadata": {
      "needs_background": "light"
     },
     "output_type": "display_data"
    }
   ],
   "source": [
    "plt.figure(figsize = (18, 13))\n",
    "sns.set_style(\"white\")\n",
    "\n",
    "corr_df = movies_be.copy()\n",
    "corr = corr_df.corr().round(2)\n",
    "\n",
    "mask = np.zeros_like(corr, dtype=np.bool)\n",
    "mask[np.triu_indices_from(mask)] = True\n",
    "\n",
    "#sns.heatmap(corr, annot = True, cmap = 'viridis', mask = mask)\n",
    "heatmap = sns.heatmap(corr, annot = True, cmap = 'viridis', mask = mask)\n",
    "bottom, top = heatmap.get_ylim()\n",
    "heatmap.set_ylim(bottom + 0.6, top - 0.5)\n",
    "fig = heatmap.get_figure()\n",
    "#fig.savefig('heatmap.png', format = 'png', dpi = 1200)\n",
    "plt.show()"
   ]
  },
  {
   "cell_type": "markdown",
   "metadata": {
    "colab_type": "text",
    "id": "9OYdNQIA4RRB"
   },
   "source": [
    "## Feature Selection Stuff"
   ]
  },
  {
   "cell_type": "markdown",
   "metadata": {
    "colab_type": "text",
    "id": "V1l4nYqQm24c"
   },
   "source": [
    "### Select k best / Univariate Selection"
   ]
  },
  {
   "cell_type": "code",
   "execution_count": 39,
   "metadata": {
    "colab": {},
    "colab_type": "code",
    "id": "hezdmsdWmL61"
   },
   "outputs": [
    {
     "name": "stdout",
     "output_type": "stream",
     "text": [
      "                        Specs         Score\n",
      "10                     budget  1.385553e+11\n",
      "7             num_voted_users  5.994871e+08\n",
      "13       movie_facebook_likes  1.483301e+08\n",
      "8   cast_total_facebook_likes  9.281176e+07\n",
      "6      actor_1_facebook_likes  9.042603e+07\n",
      "4     director_facebook_likes  3.489936e+07\n",
      "11     actor_2_facebook_likes  3.058759e+07\n",
      "5      actor_3_facebook_likes  1.452063e+07\n",
      "2                  vote_count  6.464257e+06\n"
     ]
    }
   ],
   "source": [
    "from sklearn.feature_selection import SelectKBest, chi2\n",
    "\n",
    "X = movies_be.copy().loc[:, movies_be.columns != 'revenue']\n",
    "y = movies_be.copy()['revenue']\n",
    "\n",
    "bestfeatures = SelectKBest(score_func=chi2, k=9)\n",
    "fit = bestfeatures.fit(X,y)\n",
    "dfscores = pd.DataFrame(fit.scores_)\n",
    "dfcolumns = pd.DataFrame(X.columns)\n",
    "#concat two dataframes for better visualization \n",
    "featureScores = pd.concat([dfcolumns,dfscores],axis=1)\n",
    "featureScores.columns = ['Specs','Score']  #naming the dataframe columns\n",
    "print(featureScores.nlargest(9,'Score')) \n",
    "\n",
    "k_best_cols = list(featureScores.nlargest(9,'Score').iloc[:, 0])\n",
    "k_best_cols.append('revenue')"
   ]
  },
  {
   "cell_type": "markdown",
   "metadata": {
    "colab_type": "text",
    "id": "3Pjtb7gAm7IY"
   },
   "source": [
    "### Feature Importance"
   ]
  },
  {
   "cell_type": "code",
   "execution_count": 40,
   "metadata": {
    "colab": {},
    "colab_type": "code",
    "id": "hX6y2o_Bm65O"
   },
   "outputs": [
    {
     "name": "stdout",
     "output_type": "stream",
     "text": [
      "[0.01470752 0.07326097 0.07651357 0.07766461 0.07487516 0.07774061\n",
      " 0.07112115 0.07791485 0.07454699 0.07836348 0.07573893 0.0770569\n",
      " 0.075152   0.0598933  0.00202457 0.0134254 ]\n"
     ]
    },
    {
     "data": {
      "image/png": "[encoded data removed]",
      "text/plain": [
       "<Figure size 432x288 with 1 Axes>"
      ]
     },
     "metadata": {},
     "output_type": "display_data"
    }
   ],
   "source": [
    "from sklearn.ensemble import ExtraTreesClassifier\n",
    "import matplotlib.pyplot as plt\n",
    "\n",
    "model = ExtraTreesClassifier()\n",
    "model.fit(X,y)\n",
    "\n",
    "print(model.feature_importances_) #use inbuilt class feature_importances of tree based classifiers\n",
    "#plot graph of feature importances for better visualization\n",
    "feat_importances = pd.Series(model.feature_importances_, index=X.columns)\n",
    "feat_importances.nlargest(10).plot(kind='barh')\n",
    "plt.show()\n",
    "\n",
    "feature_important_cols = list(feat_importances.nlargest(10).keys())\n",
    "feature_important_cols.append('revenue')"
   ]
  },
  {
   "cell_type": "markdown",
   "metadata": {
    "colab_type": "text",
    "id": "fv0fuYcP_pUa"
   },
   "source": [
    "# Machine Learning"
   ]
  },
  {
   "cell_type": "markdown",
   "metadata": {
    "colab_type": "text",
    "id": "CnluMzM8rI5M"
   },
   "source": [
    "Note to self: Click [here](https://pastebin.com/LNMqJmJi) for working Predictor class dated 4/8/2019"
   ]
  },
  {
   "cell_type": "markdown",
   "metadata": {
    "colab_type": "text",
    "id": "K1zf5JAEvhd6"
   },
   "source": [
    "Linear Regression.**Note to self: Using features with a correlation coefficient in the range 0.1 to 0.9 yielded no changes in accuracies in comparison to using the whole dataset.**"
   ]
  },
  {
   "cell_type": "markdown",
   "metadata": {
    "colab_type": "text",
    "id": "uWOlXbnaI1x0"
   },
   "source": [
    "Note to self: Box-Cox and Log transforming the dependent variable gave a decrease/no change in accuracy."
   ]
  },
  {
   "cell_type": "code",
   "execution_count": 41,
   "metadata": {
    "colab": {},
    "colab_type": "code",
    "id": "4pP2rvIoFEwl"
   },
   "outputs": [],
   "source": [
    "#results_df.drop(results_df.index, inplace=True)"
   ]
  },
  {
   "cell_type": "markdown",
   "metadata": {
    "colab_type": "text",
    "id": "fe_b5QeBslMf"
   },
   "source": [
    "## Linear Regression"
   ]
  },
  {
   "cell_type": "markdown",
   "metadata": {
    "colab_type": "text",
    "id": "W7JE9_eqtyLG"
   },
   "source": [
    "Normalization is not needed but is done for easy interpretation of the error metrics. Standardization is also not required here. "
   ]
  },
  {
   "cell_type": "code",
   "execution_count": 42,
   "metadata": {
    "colab": {},
    "colab_type": "code",
    "id": "X1vvW5uUiQ8q"
   },
   "outputs": [
    {
     "data": {
      "application/vnd.jupyter.widget-view+json": {
       "model_id": "acc9de9a40f0447593437ca341572f18",
       "version_major": 2,
       "version_minor": 0
      },
      "text/plain": [
       "HBox(children=(IntProgress(value=0), HTML(value='')))"
      ]
     },
     "metadata": {},
     "output_type": "display_data"
    },
    {
     "name": "stdout",
     "output_type": "stream",
     "text": [
      "\n"
     ]
    },
    {
     "data": {
      "text/html": [
       "<div>\n",
       "<style scoped>\n",
       "    .dataframe tbody tr th:only-of-type {\n",
       "        vertical-align: middle;\n",
       "    }\n",
       "\n",
       "    .dataframe tbody tr th {\n",
       "        vertical-align: top;\n",
       "    }\n",
       "\n",
       "    .dataframe thead th {\n",
       "        text-align: right;\n",
       "    }\n",
       "</style>\n",
       "<table border=\"1\" class=\"dataframe\">\n",
       "  <thead>\n",
       "    <tr style=\"text-align: right;\">\n",
       "      <th></th>\n",
       "      <th>Algorithm</th>\n",
       "      <th>Correlation</th>\n",
       "      <th>MAE</th>\n",
       "      <th>MSE</th>\n",
       "      <th>RMSE</th>\n",
       "      <th>R2</th>\n",
       "    </tr>\n",
       "  </thead>\n",
       "  <tbody>\n",
       "    <tr>\n",
       "      <th>0</th>\n",
       "      <td>Linear Regression</td>\n",
       "      <td>0.848596</td>\n",
       "      <td>0.032815</td>\n",
       "      <td>0.002603</td>\n",
       "      <td>0.051022</td>\n",
       "      <td>0.70225</td>\n",
       "    </tr>\n",
       "  </tbody>\n",
       "</table>\n",
       "</div>"
      ],
      "text/plain": [
       "           Algorithm  Correlation       MAE       MSE      RMSE       R2\n",
       "0  Linear Regression     0.848596  0.032815  0.002603  0.051022  0.70225"
      ]
     },
     "execution_count": 42,
     "metadata": {},
     "output_type": "execute_result"
    }
   ],
   "source": [
    "from sklearn.preprocessing import PowerTransformer\n",
    "\n",
    "dataset = movies_be.copy().drop(['action_or_adventure', 'top_director'], axis = 1)\n",
    "\n",
    "cv_sets = 10\n",
    "corrs = []\n",
    "iterations = 100\n",
    "normalize = True\n",
    "results_list = ['Linear Regression']\n",
    "\n",
    "if normalize:\n",
    "    for column in dataset.columns:\n",
    "      dataset[column] = ((dataset[column]) - dataset[column].min()) / (dataset[column].max() - dataset[column].min())\n",
    "\n",
    "X = dataset.loc[:, dataset.columns != 'revenue']\n",
    "y = dataset['revenue']\n",
    "\n",
    "model = LinearRegression(fit_intercept = True)\n",
    "model.fit(X, y)\n",
    "\n",
    "mse_mean = cross_val_score(model, X, y, cv = cv_sets, scoring = 'neg_mean_squared_error').mean()\n",
    "mae_mean = cross_val_score(model, X, y, cv = cv_sets, scoring = 'neg_mean_absolute_error').mean()\n",
    "r2_mean = cross_val_score(model, X, y, cv = cv_sets, scoring = 'r2').mean()\n",
    "\n",
    "# Calculate correlation between predicted and actual for a number of iterations and get the average\n",
    "\n",
    "for i in tqdm_notebook(range(iterations), total = iterations, unit = 'iteration'):\n",
    "  X_train, X_test, y_train, y_test = train_test_split(X, y)\n",
    "  model = LinearRegression(fit_intercept = True)\n",
    "  model.fit(X_train, y_train)\n",
    "  y_pred = model.predict(X_test)\n",
    "  corrs.append(np.corrcoef(y_test, y_pred)[0, 1])\n",
    "\n",
    "results_list.append(sum(corrs)/iterations)\n",
    "results_list.append(abs(mae_mean))\n",
    "results_list.append(abs(mse_mean))\n",
    "results_list.append(sqrt(abs(mse_mean)))\n",
    "results_list.append(abs(r2_mean))\n",
    "\n",
    "results_df = pd.DataFrame([results_list], columns = ['Algorithm', 'Correlation', 'MAE', 'MSE', 'RMSE', 'R2'])\n",
    "results_df"
   ]
  },
  {
   "cell_type": "markdown",
   "metadata": {
    "colab_type": "text",
    "id": "aaX8S3g_soxk"
   },
   "source": [
    "## Support Vector Regression"
   ]
  },
  {
   "cell_type": "markdown",
   "metadata": {
    "colab_type": "text",
    "id": "OaZ42A2Y4AlH"
   },
   "source": [
    "Note: When using standardization, the "
   ]
  },
  {
   "cell_type": "code",
   "execution_count": 43,
   "metadata": {
    "colab": {},
    "colab_type": "code",
    "id": "xuawOeOu-AZG"
   },
   "outputs": [],
   "source": [
    "from sklearn.svm import SVR\n",
    "from sklearn.preprocessing import StandardScaler\n",
    "from sklearn.metrics import mean_absolute_error\n",
    "\n",
    "corrs = []\n",
    "mses = []\n",
    "maes = []\n",
    "r2s = []\n",
    "rmses = []\n",
    "results_list = ['Support Vector']\n",
    "\n",
    "for i in range(100):\n",
    "  dataset = movies_be.copy()\n",
    "  cv_sets = 10\n",
    "  normalize = True\n",
    "  standardize = False\n",
    "\n",
    "\n",
    "  if normalize:\n",
    "      for column in dataset.columns:\n",
    "        dataset[column] = ((dataset[column]) - dataset[column].min()) / (dataset[column].max() - dataset[column].min())\n",
    "\n",
    "  X = dataset.loc[:, dataset.columns != 'revenue']\n",
    "  y = dataset['revenue']\n",
    "\n",
    "  if standardize:\n",
    "    sc_X = StandardScaler()\n",
    "    sc_y = StandardScaler()\n",
    "    X = sc_X.fit_transform(X)\n",
    "    y = sc_y.fit_transform(y.values.reshape(-1, 1))\n",
    "\n",
    "  X_train, X_test, y_train, y_test = train_test_split(X, y) #, test_size = 0.2)\n",
    "\n",
    "  model = SVR(kernel = 'linear')\n",
    "  model.fit(X_train, y_train)\n",
    "\n",
    "  if standardize:\n",
    "    y_pred = sc_y.inverse_transform(model.predict(sc_X.transform(X_test)))\n",
    "  else:\n",
    "    y_pred = model.predict(X_test)\n",
    "  \n",
    "  \n",
    "  mses.append(mean_squared_error(y_test, y_pred)) \n",
    "  maes.append(mean_absolute_error(y_test, y_pred))\n",
    "  r2s.append(r2_score(y_test, y_pred))\n",
    "  corrs.append(np.corrcoef(y_test, y_pred)[0, 1])\n",
    "  rmses.append(sqrt(abs(mean_squared_error(y_test, y_pred))))\n",
    "\n",
    "\n",
    "results_list.append(np.mean(corrs))\n",
    "results_list.append(abs(np.mean(maes)))\n",
    "results_list.append(abs(np.mean(mses)))\n",
    "results_list.append(sqrt(abs(np.mean(rmses))))\n",
    "results_list.append(abs(np.mean(r2s)))\n",
    "\n",
    "results_df.loc[len(results_df)] = results_list"
   ]
  },
  {
   "cell_type": "markdown",
   "metadata": {
    "colab_type": "text",
    "id": "FlUirnd5RrHi"
   },
   "source": [
    "## Decision Tree Regression"
   ]
  },
  {
   "cell_type": "code",
   "execution_count": 44,
   "metadata": {
    "colab": {},
    "colab_type": "code",
    "id": "n2iD1vKYRt0Z"
   },
   "outputs": [
    {
     "data": {
      "application/vnd.jupyter.widget-view+json": {
       "model_id": "4003fb231c3c4941bafd15a07a5d583a",
       "version_major": 2,
       "version_minor": 0
      },
      "text/plain": [
       "HBox(children=(IntProgress(value=0), HTML(value='')))"
      ]
     },
     "metadata": {},
     "output_type": "display_data"
    },
    {
     "name": "stdout",
     "output_type": "stream",
     "text": [
      "\n"
     ]
    }
   ],
   "source": [
    "\n",
    "from sklearn.tree import DecisionTreeRegressor\n",
    "\n",
    "dataset = movies_be.copy()\n",
    "cv_sets = 10\n",
    "corrs = []\n",
    "results_list = ['Decision Tree']\n",
    "iterations = 100\n",
    "normalize = True\n",
    "\n",
    "X = dataset.loc[:, dataset.columns != 'revenue']\n",
    "y = dataset['revenue']\n",
    "\n",
    "if normalize:\n",
    "    for column in dataset.columns:\n",
    "      dataset[column] = ((dataset[column]) - dataset[column].min()) / (dataset[column].max() - dataset[column].min())\n",
    "\n",
    "model = DecisionTreeRegressor()\n",
    "model.fit(X, y)\n",
    "\n",
    "mse_mean = cross_val_score(model, X, y, cv = cv_sets, scoring = 'neg_mean_squared_error').mean()\n",
    "mae_mean = cross_val_score(model, X, y, cv = cv_sets, scoring = 'neg_mean_absolute_error').mean()\n",
    "r2_mean = cross_val_score(model, X, y, cv = cv_sets, scoring = 'r2').mean()\n",
    "\n",
    "for i in tqdm_notebook(range(iterations), total = iterations, unit = 'iteration'):\n",
    "  X_train, X_test, y_train, y_test = train_test_split(X, y)\n",
    "  model = DecisionTreeRegressor()\n",
    "  model.fit(X_train, y_train)\n",
    "  y_pred = model.predict(X_test)\n",
    "  corrs.append(np.corrcoef(y_test, y_pred)[0, 1])\n",
    "\n",
    "results_list.append(np.mean(corrs))\n",
    "results_list.append(abs(np.mean(maes)))\n",
    "results_list.append(abs(np.mean(mses)))\n",
    "results_list.append(sqrt(abs(np.mean(rmses))))\n",
    "results_list.append(abs(np.mean(r2s)))\n",
    "\n",
    "results_df.loc[len(results_df)] = results_list"
   ]
  },
  {
   "cell_type": "code",
   "execution_count": null,
   "metadata": {
    "colab": {},
    "colab_type": "code",
    "id": "K9s_nvR5h4Uv"
   },
   "outputs": [],
   "source": []
  },
  {
   "cell_type": "markdown",
   "metadata": {
    "colab_type": "text",
    "id": "Lmcq19HhT9QF"
   },
   "source": [
    "## Random Forest"
   ]
  },
  {
   "cell_type": "code",
   "execution_count": 45,
   "metadata": {
    "colab": {},
    "colab_type": "code",
    "id": "l9ZhpodXT-vA"
   },
   "outputs": [
    {
     "data": {
      "application/vnd.jupyter.widget-view+json": {
       "model_id": "64d286a35ae24a1b9159bcae1ceea44d",
       "version_major": 2,
       "version_minor": 0
      },
      "text/plain": [
       "HBox(children=(IntProgress(value=0, max=1), HTML(value='')))"
      ]
     },
     "metadata": {},
     "output_type": "display_data"
    },
    {
     "name": "stdout",
     "output_type": "stream",
     "text": [
      "\n",
      "Corr: \t0.8688\n",
      "MAE: \t0.0317\n",
      "MSE: \t0.0025\n",
      "RMSE: \t0.05\n",
      "R2: \t0.7128\n"
     ]
    }
   ],
   "source": [
    "from sklearn.ensemble import RandomForestRegressor\n",
    "\n",
    "dataset = movies_be.copy()\n",
    "cv_sets = 10\n",
    "corrs = []\n",
    "results_list = ['Random Forest']\n",
    "iterations = 1\n",
    "normalize = True\n",
    "estimators = 100\n",
    "\n",
    "X = dataset.loc[:, dataset.columns != 'revenue']\n",
    "y = dataset['revenue']\n",
    "\n",
    "if normalize:\n",
    "    for column in dataset.columns:\n",
    "      dataset[column] = ((dataset[column]) - dataset[column].min()) / (dataset[column].max() - dataset[column].min())\n",
    "\n",
    "model = RandomForestRegressor(n_estimators = estimators)\n",
    "model.fit(X, y)\n",
    "\n",
    "mse_mean = cross_val_score(model, X, y, cv = cv_sets, scoring = 'neg_mean_squared_error').mean().round(4)\n",
    "mae_mean = cross_val_score(model, X, y, cv = cv_sets, scoring = 'neg_mean_absolute_error').mean().round(4)\n",
    "r2_mean = cross_val_score(model, X, y, cv = cv_sets, scoring = 'r2').mean().round(4)\n",
    "\n",
    "for i in tqdm_notebook(range(iterations), total = iterations, unit = 'iteration'):\n",
    "  X_train, X_test, y_train, y_test = train_test_split(X, y)\n",
    "  model = RandomForestRegressor(n_estimators = estimators)\n",
    "  model.fit(X_train, y_train)\n",
    "  y_pred = model.predict(X_test)\n",
    "  corrs.append(np.corrcoef(y_test, y_pred)[0, 1])\n",
    "\n",
    "print('Corr: \\t' + str((sum(corrs)/iterations).round(4)))\n",
    "print('MAE: \\t'+ str(abs(mae_mean).round(4)))\n",
    "print('MSE: \\t' + str(abs(mse_mean).round(4))) \n",
    "print('RMSE: \\t' + str(sqrt(abs(mse_mean)).round(4)))\n",
    "print('R2: \\t' + str(abs(r2_mean).round(4)))\n",
    "\n",
    "#print(sorted(zip(map(lambda x: round(x, 4), model.feature_importances_), dataset.columns), reverse=True))\n",
    "\n",
    "results_list.append(sum(corrs)/iterations)\n",
    "results_list.append(abs(mae_mean))\n",
    "results_list.append(abs(mse_mean))\n",
    "results_list.append(sqrt(abs(mse_mean)))\n",
    "results_list.append(abs(r2_mean))\n",
    "results_df.loc[len(results_df)] = results_list"
   ]
  },
  {
   "cell_type": "code",
   "execution_count": 46,
   "metadata": {
    "colab": {},
    "colab_type": "code",
    "id": "Or1w1FkqIUfb"
   },
   "outputs": [
    {
     "data": {
      "image/png": "[encoded data removed]",
      "text/plain": [
       "<Figure size 432x288 with 1 Axes>"
      ]
     },
     "metadata": {},
     "output_type": "display_data"
    }
   ],
   "source": [
    "feat_importances = pd.Series(model.feature_importances_, index = X.columns)\n",
    "fig = feat_importances.nsmallest(len(X.columns)).plot(kind='barh').get_figure()\n",
    "plt.tight_layout()\n",
    "#fig.savefig('feat_importances.png', format='png', dpi=1200)\n",
    "#files.download(\"feat_importances.png\") "
   ]
  },
  {
   "cell_type": "markdown",
   "metadata": {
    "colab_type": "text",
    "id": "3D7BbTuz2srj"
   },
   "source": [
    "## Ridge Regression"
   ]
  },
  {
   "cell_type": "code",
   "execution_count": 47,
   "metadata": {
    "colab": {},
    "colab_type": "code",
    "id": "Z8zIQUWw2uE8"
   },
   "outputs": [],
   "source": [
    "from sklearn.model_selection import GridSearchCV\n",
    "from sklearn.linear_model import Ridge\n",
    "\n",
    "dataset = movies_be.copy()\n",
    "\n",
    "cv_sets = 10\n",
    "normalize = False\n",
    "results_list = ['Ridge']\n",
    "\n",
    "if normalize:\n",
    "    for column in dataset.columns:\n",
    "      dataset[column] = ((dataset[column]) - dataset[column].min()) / (dataset[column].max() - dataset[column].min())\n",
    "\n",
    "X = dataset.loc[:, dataset.columns != 'revenue']\n",
    "y = dataset['revenue']\n",
    "parameters = {'alpha' : [1e-15, 1e-10, 1e-8, 18-4, 1e-3, 1e-2, 1, 5, 10, 20]}\n",
    "scoring = {'MAE': 'neg_mean_absolute_error', 'MSE': 'neg_mean_squared_error', 'R2' : 'r2_score'}\n",
    "\n",
    "model = Ridge()\n",
    "\n",
    "regressor_mse = GridSearchCV(model, parameters, scoring = 'neg_mean_squared_error', cv = cv_sets)\n",
    "regressor_mse.fit(X, y)\n",
    "\n",
    "regressor_mae = GridSearchCV(model, parameters, scoring = 'neg_mean_absolute_error', cv = cv_sets)\n",
    "regressor_mae.fit(X, y)\n",
    "\n",
    "regressor_r2 = GridSearchCV(model, parameters, scoring = 'r2', cv = cv_sets)\n",
    "regressor_r2.fit(X, y)\n",
    "\n",
    "results_list.append(np.nan)\n",
    "results_list.append(abs(np.mean(maes)))\n",
    "results_list.append(abs(np.mean(mses)))\n",
    "results_list.append(sqrt(abs(np.mean(rmses))))\n",
    "results_list.append(abs(np.mean(r2s)))"
   ]
  },
  {
   "cell_type": "code",
   "execution_count": 48,
   "metadata": {
    "colab": {},
    "colab_type": "code",
    "id": "SnvGNoBWTjBJ"
   },
   "outputs": [
    {
     "data": {
      "application/vnd.jupyter.widget-view+json": {
       "model_id": "49c4ec642cbe45e3a3a252349edabef1",
       "version_major": 2,
       "version_minor": 0
      },
      "text/plain": [
       "HBox(children=(IntProgress(value=0), HTML(value='')))"
      ]
     },
     "metadata": {},
     "output_type": "display_data"
    },
    {
     "name": "stdout",
     "output_type": "stream",
     "text": [
      "\n"
     ]
    }
   ],
   "source": [
    "\n",
    "from sklearn.model_selection import GridSearchCV\n",
    "from sklearn.linear_model import Ridge\n",
    "\n",
    "dataset = movies_be.copy()\n",
    "iterations = 100\n",
    "corrs = []\n",
    "\n",
    "cv_sets = 10\n",
    "normalize = True\n",
    "\n",
    "if normalize:\n",
    "    for column in dataset.columns:\n",
    "      dataset[column] = ((dataset[column]) - dataset[column].min()) / (dataset[column].max() - dataset[column].min())\n",
    "\n",
    "X = dataset.loc[:, dataset.columns != 'revenue']\n",
    "y = dataset['revenue']\n",
    "parameters = {'alpha' : [1e-15, 1e-10, 1e-8, 18-4, 1e-3, 1e-2, 1, 5, 10, 20]}\n",
    "scoring_metrics = {'MAE': 'neg_mean_absolute_error', 'MSE': 'neg_mean_squared_error', 'R2' : 'r2'}\n",
    "\n",
    "for i in tqdm_notebook(range(iterations), total = iterations, unit = 'iteration'):\n",
    "  X_train, X_test, y_train, y_test = train_test_split(X, y)\n",
    "  model = Ridge()\n",
    "  regressor = GridSearchCV(model, parameters, cv = cv_sets)\n",
    "  regressor.fit(X_train, y_train)\n",
    "  y_pred = regressor.predict(X_test)\n",
    "  corrs.append(np.corrcoef(y_test, y_pred)[0, 1])\n",
    "\n",
    "results_list[1] = sum(corrs)/iterations\n",
    "results_df.loc[len(results_df)] = results_list"
   ]
  },
  {
   "cell_type": "markdown",
   "metadata": {
    "colab_type": "text",
    "id": "aVwvBGQ848F_"
   },
   "source": [
    "## Lasso Regression"
   ]
  },
  {
   "cell_type": "code",
   "execution_count": 49,
   "metadata": {
    "colab": {},
    "colab_type": "code",
    "id": "n96n7CZ24-JI"
   },
   "outputs": [],
   "source": [
    "from sklearn.model_selection import GridSearchCV\n",
    "from sklearn.linear_model import Lasso\n",
    "\n",
    "dataset = movies_be.copy()\n",
    "\n",
    "cv_sets = 10\n",
    "normalize = True\n",
    "results_list = ['Lasso']\n",
    "\n",
    "if normalize:\n",
    "    for column in dataset.columns:\n",
    "      dataset[column] = ((dataset[column]) - dataset[column].min()) / (dataset[column].max() - dataset[column].min())\n",
    "\n",
    "X = dataset.loc[:, dataset.columns != 'revenue']\n",
    "y = dataset['revenue']\n",
    "parameters = {'alpha' : [1e-15, 1e-10, 1e-8, 18-4, 1e-3, 1e-2, 1, 5, 10, 20]}\n",
    "\n",
    "#model = Lasso(tol=1)\n",
    "model = Lasso()\n",
    "\n",
    "regressor_mse = GridSearchCV(model, parameters, scoring = 'neg_mean_squared_error', cv = cv_sets)\n",
    "regressor_mse.fit(X, y)\n",
    "\n",
    "regressor_mae = GridSearchCV(model, parameters, scoring = 'neg_mean_absolute_error', cv = cv_sets)\n",
    "regressor_mae.fit(X, y)\n",
    "\n",
    "regressor_r2 = GridSearchCV(model, parameters, scoring = 'r2', cv = cv_sets)\n",
    "regressor_r2.fit(X, y)\n",
    "\n",
    "results_list.append(np.nan)\n",
    "results_list.append(abs(np.mean(maes)))\n",
    "results_list.append(abs(np.mean(mses)))\n",
    "results_list.append(sqrt(abs(np.mean(rmses))))\n",
    "results_list.append(abs(np.mean(r2s)))"
   ]
  },
  {
   "cell_type": "markdown",
   "metadata": {
    "colab_type": "text",
    "id": "9mGvhnRGVQjP"
   },
   "source": [
    "To calculate correlation. Don't run again please. The results are almost always the same"
   ]
  },
  {
   "cell_type": "code",
   "execution_count": 50,
   "metadata": {
    "colab": {},
    "colab_type": "code",
    "id": "V-6xAp2hTxvZ"
   },
   "outputs": [
    {
     "data": {
      "application/vnd.jupyter.widget-view+json": {
       "model_id": "910e123f898546a4941b35f3fb8c4f7c",
       "version_major": 2,
       "version_minor": 0
      },
      "text/plain": [
       "HBox(children=(IntProgress(value=0), HTML(value='')))"
      ]
     },
     "metadata": {},
     "output_type": "display_data"
    },
    {
     "name": "stdout",
     "output_type": "stream",
     "text": [
      "\n"
     ]
    }
   ],
   "source": [
    "\n",
    "from sklearn.model_selection import GridSearchCV\n",
    "from sklearn.linear_model import Ridge\n",
    "\n",
    "dataset = movies_be.copy()\n",
    "iterations = 100\n",
    "corrs = []\n",
    "\n",
    "cv_sets = 10\n",
    "normalize = True\n",
    "\n",
    "if normalize:\n",
    "    for column in dataset.columns:\n",
    "      dataset[column] = ((dataset[column]) - dataset[column].min()) / (dataset[column].max() - dataset[column].min())\n",
    "\n",
    "X = dataset.loc[:, dataset.columns != 'revenue']\n",
    "y = dataset['revenue']\n",
    "parameters = {'alpha' : [1e-15, 1e-10, 1e-8, 18-4, 1e-3, 1e-2, 1, 5, 10, 20]}\n",
    "scoring_metrics = {'MAE': 'neg_mean_absolute_error', 'MSE': 'neg_mean_squared_error', 'R2' : 'r2'}\n",
    "\n",
    "for i in tqdm_notebook(range(iterations), total = iterations, unit = 'iteration'):\n",
    "  X_train, X_test, y_train, y_test = train_test_split(X, y)\n",
    "  model = Lasso()\n",
    "  regressor = GridSearchCV(model, parameters, cv = cv_sets)\n",
    "  regressor.fit(X_train, y_train)\n",
    "  y_pred = regressor.predict(X_test)\n",
    "  corrs.append(np.corrcoef(y_test, y_pred)[0, 1])\n",
    "\n",
    "results_list[1] = sum(corrs)/iterations\n",
    "results_df.loc[len(results_df)] = results_list\n"
   ]
  },
  {
   "cell_type": "code",
   "execution_count": 51,
   "metadata": {
    "colab": {},
    "colab_type": "code",
    "id": "V29828W2HRJ3"
   },
   "outputs": [
    {
     "data": {
      "text/html": [
       "<div>\n",
       "<style scoped>\n",
       "    .dataframe tbody tr th:only-of-type {\n",
       "        vertical-align: middle;\n",
       "    }\n",
       "\n",
       "    .dataframe tbody tr th {\n",
       "        vertical-align: top;\n",
       "    }\n",
       "\n",
       "    .dataframe thead th {\n",
       "        text-align: right;\n",
       "    }\n",
       "</style>\n",
       "<table border=\"1\" class=\"dataframe\">\n",
       "  <thead>\n",
       "    <tr style=\"text-align: right;\">\n",
       "      <th></th>\n",
       "      <th>Algorithm</th>\n",
       "      <th>Correlation</th>\n",
       "      <th>MAE</th>\n",
       "      <th>MSE</th>\n",
       "      <th>RMSE</th>\n",
       "      <th>R2</th>\n",
       "    </tr>\n",
       "  </thead>\n",
       "  <tbody>\n",
       "    <tr>\n",
       "      <th>0</th>\n",
       "      <td>Linear Regression</td>\n",
       "      <td>0.848596</td>\n",
       "      <td>0.032815</td>\n",
       "      <td>0.002603</td>\n",
       "      <td>0.051022</td>\n",
       "      <td>0.702250</td>\n",
       "    </tr>\n",
       "    <tr>\n",
       "      <th>1</th>\n",
       "      <td>Support Vector</td>\n",
       "      <td>0.840365</td>\n",
       "      <td>0.043034</td>\n",
       "      <td>0.003219</td>\n",
       "      <td>0.238074</td>\n",
       "      <td>0.650731</td>\n",
       "    </tr>\n",
       "    <tr>\n",
       "      <th>2</th>\n",
       "      <td>Decision Tree</td>\n",
       "      <td>0.752134</td>\n",
       "      <td>0.043034</td>\n",
       "      <td>0.003219</td>\n",
       "      <td>0.238074</td>\n",
       "      <td>0.650731</td>\n",
       "    </tr>\n",
       "    <tr>\n",
       "      <th>3</th>\n",
       "      <td>Random Forest</td>\n",
       "      <td>0.868772</td>\n",
       "      <td>0.031700</td>\n",
       "      <td>0.002500</td>\n",
       "      <td>0.050000</td>\n",
       "      <td>0.712800</td>\n",
       "    </tr>\n",
       "    <tr>\n",
       "      <th>4</th>\n",
       "      <td>Ridge</td>\n",
       "      <td>0.854340</td>\n",
       "      <td>0.043034</td>\n",
       "      <td>0.003219</td>\n",
       "      <td>0.238074</td>\n",
       "      <td>0.650731</td>\n",
       "    </tr>\n",
       "    <tr>\n",
       "      <th>5</th>\n",
       "      <td>Lasso</td>\n",
       "      <td>0.851810</td>\n",
       "      <td>0.043034</td>\n",
       "      <td>0.003219</td>\n",
       "      <td>0.238074</td>\n",
       "      <td>0.650731</td>\n",
       "    </tr>\n",
       "  </tbody>\n",
       "</table>\n",
       "</div>"
      ],
      "text/plain": [
       "           Algorithm  Correlation       MAE       MSE      RMSE        R2\n",
       "0  Linear Regression     0.848596  0.032815  0.002603  0.051022  0.702250\n",
       "1     Support Vector     0.840365  0.043034  0.003219  0.238074  0.650731\n",
       "2      Decision Tree     0.752134  0.043034  0.003219  0.238074  0.650731\n",
       "3      Random Forest     0.868772  0.031700  0.002500  0.050000  0.712800\n",
       "4              Ridge     0.854340  0.043034  0.003219  0.238074  0.650731\n",
       "5              Lasso     0.851810  0.043034  0.003219  0.238074  0.650731"
      ]
     },
     "execution_count": 51,
     "metadata": {},
     "output_type": "execute_result"
    }
   ],
   "source": [
    "results_df"
   ]
  },
  {
   "cell_type": "code",
   "execution_count": 52,
   "metadata": {
    "colab": {},
    "colab_type": "code",
    "id": "C4ENaR0_jjz0"
   },
   "outputs": [
    {
     "data": {
      "image/png": "[encoded data removed]",
      "text/plain": [
       "<Figure size 720x360 with 1 Axes>"
      ]
     },
     "metadata": {},
     "output_type": "display_data"
    }
   ],
   "source": [
    "pos = list(range(len(results_df['Correlation']))) \n",
    "width = 0.25 \n",
    "sns.set_style('whitegrid')\n",
    "fig, ax = plt.subplots(figsize=(10,5))\n",
    "\n",
    "rects1 = plt.bar(pos, results_df['Correlation'], width, color = '#ff0000', label = results_df['Algorithm'][0])\n",
    "rects2 = plt.bar([p + width for p in pos], results_df['R2'], width, color = '#32a852', label = results_df['Algorithm'][1]) \n",
    "\n",
    "plt.bar(pos, results_df['Correlation'], width, color = '#ff0000', label = results_df['Algorithm'][0])\n",
    "plt.bar([p + width for p in pos], results_df['R2'], width, color = '#32a852', label = results_df['Algorithm'][1]) \n",
    "\n",
    "#ax.set_ylabel('Score')\n",
    "#ax.set_title('Correlation and R-squared comparison')\n",
    "ax.set_xticks([p + 1.5 * width for p in pos])\n",
    "ax.set_xticklabels(results_df['Algorithm'])\n",
    "\n",
    "plt.xlim(min(pos)-width, max(pos)+width*4)\n",
    "ax.spines['bottom'].set_color('black')\n",
    "ax.spines['left'].set_color('black')\n",
    "plt.ylim([0.6, 1])\n",
    "#plt.xticks(rotation = 45)\n",
    "\n",
    "def autolabel(rects):\n",
    "    for rect in rects:\n",
    "        height = rect.get_height().round(3)\n",
    "        ax.annotate('{}'.format(height),\n",
    "                    xy=(rect.get_x() + rect.get_width() / 2, height),\n",
    "                    xytext=(0, 3),  # 3 points vertical offset\n",
    "                    textcoords=\"offset points\",\n",
    "                    ha='center', va='bottom')\n",
    "autolabel(rects1)\n",
    "autolabel(rects2)\n",
    "sns.despine(top = True, right = True)\n",
    "plt.legend(['Correlation', 'R-squared'], loc='upper left')\n",
    "plt.show()\n",
    "\n",
    "#fig.savefig('corrandr2.png', format = 'png', dpi = 1200)\n",
    "#files.download('corrandr2.png')"
   ]
  },
  {
   "cell_type": "code",
   "execution_count": 53,
   "metadata": {
    "colab": {},
    "colab_type": "code",
    "id": "pYEVANurwQ0l"
   },
   "outputs": [
    {
     "data": {
      "image/png": "[encoded data removed]",
      "text/plain": [
       "<Figure size 720x360 with 1 Axes>"
      ]
     },
     "metadata": {},
     "output_type": "display_data"
    }
   ],
   "source": [
    "pos = list(range(len(results_df['MAE']))) \n",
    "width = 0.25 \n",
    "sns.set_style('whitegrid')\n",
    "fig, ax = plt.subplots(figsize=(10,5))\n",
    "\n",
    "rects1 = plt.bar(pos, results_df['MAE'], width, color = '#ffa500', label = results_df['Algorithm'][0])\n",
    "rects2 = plt.bar([p + width for p in pos], results_df['RMSE'], width, color = '#34a1eb', label = results_df['Algorithm'][1]) \n",
    "\n",
    "plt.bar(pos, results_df['MAE'], width, color = '#ffa500', label = results_df['Algorithm'][0])\n",
    "plt.bar([p + width for p in pos], results_df['RMSE'], width, color = '#34a1eb', label = results_df['Algorithm'][1]) \n",
    "#ax.set_ylabel('Score')\n",
    "#ax.set_title('Error metrics comparison')\n",
    "ax.set_xticks([p + 1.5 * width for p in pos])\n",
    "ax.set_xticklabels(results_df['Algorithm'])\n",
    "\n",
    "plt.xlim(min(pos)-width, max(pos)+width*4)\n",
    "plt.ylim([0, max(results_df['MAE'] + results_df['RMSE'])] )\n",
    "#plt.xticks(rotation = 45)\n",
    "ax.spines['bottom'].set_color('black')\n",
    "ax.spines['left'].set_color('black')\n",
    "\n",
    "def autolabel(rects):\n",
    "    \"\"\"Attach a text label above each bar in *rects*, displaying its height.\"\"\"\n",
    "    for rect in rects:\n",
    "        height = rect.get_height().round(3)\n",
    "        ax.annotate('{}'.format(height),\n",
    "                    xy=(rect.get_x() + rect.get_width() / 2, height),\n",
    "                    xytext=(0, 3),  # 3 points vertical offset\n",
    "                    textcoords=\"offset points\",\n",
    "                    ha='center', va='bottom')\n",
    "autolabel(rects1)\n",
    "autolabel(rects2)\n",
    "sns.despine(top = True, right = True)\n",
    "plt.legend(['MAE', 'RMSE'], loc='upper left')\n",
    "plt.show()"
   ]
  }
 ],
 "metadata": {
  "colab": {
   "collapsed_sections": [],
   "machine_shape": "hm",
   "name": "Mini_Project_V3.ipynb",
   "provenance": []
  },
  "kernelspec": {
   "display_name": "Python 3",
   "language": "python",
   "name": "python3"
  },
  "language_info": {
   "codemirror_mode": {
    "name": "ipython",
    "version": 3
   },
   "file_extension": ".py",
   "mimetype": "text/x-python",
   "name": "python",
   "nbconvert_exporter": "python",
   "pygments_lexer": "ipython3",
   "version": "3.7.1"
  }
 },
 "nbformat": 4,
 "nbformat_minor": 1
}
